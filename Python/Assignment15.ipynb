{
 "cells": [
  {
   "cell_type": "code",
   "execution_count": 3,
   "id": "20a90ef6-940c-4c96-8303-3d8b7971b3c9",
   "metadata": {},
   "outputs": [
    {
     "name": "stdout",
     "output_type": "stream",
     "text": [
      "Enter an integer (from range 0 to n):\n"
     ]
    },
    {
     "name": "stdin",
     "output_type": "stream",
     "text": [
      " 100\n"
     ]
    },
    {
     "name": "stdout",
     "output_type": "stream",
     "text": [
      "the numbers which can be divisible by 5 and 7 between 0 and 100 :\n",
      "0,5,7,10,14,15,20,21,25,28,30,35,40,42,45,49,50,55,56,60,63,65,70,75,77,80,84,85,90,91,95,98,100,"
     ]
    }
   ],
   "source": [
    "## Please write a program using generator to print the numbers which can be divisible by 5 and 7 between 0 and n in comma separated form while n is input by console.\n",
    "\n",
    "print('Enter an integer (from range 0 to n):')\n",
    "num = int(input())\n",
    "\n",
    "print('the numbers which can be divisible by 5 and 7 between 0 and',num,':')\n",
    "for i in range(num+1):\n",
    "    if i%5 == 0 or i%7==0:\n",
    "        print(i,end=',')\n"
   ]
  },
  {
   "cell_type": "code",
   "execution_count": 4,
   "id": "b6799610-ab2d-4be8-a14d-39ae35b04dd3",
   "metadata": {},
   "outputs": [
    {
     "name": "stdout",
     "output_type": "stream",
     "text": [
      "Enter an integer (from range 0 to n):\n"
     ]
    },
    {
     "name": "stdin",
     "output_type": "stream",
     "text": [
      " 100\n"
     ]
    },
    {
     "name": "stdout",
     "output_type": "stream",
     "text": [
      "the even numbers between 0 and 100 :\n",
      "0,2,4,6,8,10,12,14,16,18,20,22,24,26,28,30,32,34,36,38,40,42,44,46,48,50,52,54,56,58,60,62,64,66,68,70,72,74,76,78,80,82,84,86,88,90,92,94,96,98,100,"
     ]
    }
   ],
   "source": [
    "## Please write a program using generator to print the even numbers between 0 and n in comma separated form while n is input by console.\n",
    "\n",
    "print('Enter an integer (from range 0 to n):')\n",
    "num = int(input())\n",
    "\n",
    "print('the even numbers between 0 and',num,':')\n",
    "for i in range(num+1):\n",
    "    if i%2 == 0:\n",
    "        print(i,end=',')\n"
   ]
  },
  {
   "cell_type": "code",
   "execution_count": 11,
   "id": "88beef05-cc31-4ad9-a433-d27cba17bc51",
   "metadata": {},
   "outputs": [
    {
     "name": "stdout",
     "output_type": "stream",
     "text": [
      "Enter a number:\n"
     ]
    },
    {
     "name": "stdin",
     "output_type": "stream",
     "text": [
      " 7\n"
     ]
    },
    {
     "name": "stdout",
     "output_type": "stream",
     "text": [
      "First 7 Fibonacci numbers:\n",
      "[0, 1, 1, 2, 3, 5, 8, 13]\n"
     ]
    }
   ],
   "source": [
    "## Please write a program using list comprehension to print the Fibonacci Sequence in comma separated form with a given n input by console.\n",
    "\n",
    "def fibonacci_nums(n):\n",
    "    if n <= 0:\n",
    "        return [0]\n",
    "    sequence = [0, 1]\n",
    "    while len(sequence) <= n:\n",
    "        next_value = sequence[len(sequence) - 1] + sequence[len(sequence) - 2]\n",
    "        sequence.append(next_value)\n",
    "    return sequence\n",
    "\n",
    "print('Enter a number:')\n",
    "num = int(input())\n",
    "\n",
    "print(\"First\",num,\"Fibonacci numbers:\")\n",
    "print(fibonacci_nums(num))"
   ]
  },
  {
   "cell_type": "code",
   "execution_count": 21,
   "id": "04a22299-918b-483c-9520-da23a68f240d",
   "metadata": {},
   "outputs": [
    {
     "name": "stdout",
     "output_type": "stream",
     "text": [
      "Enter the mail id as given format: username@companyname.com ::\n"
     ]
    },
    {
     "name": "stdin",
     "output_type": "stream",
     "text": [
      " divyansh@inuron.com\n"
     ]
    },
    {
     "name": "stdout",
     "output_type": "stream",
     "text": [
      "User name is: divyansh   Company name is: inuron\n"
     ]
    }
   ],
   "source": [
    "## Assuming that we have some email addresses in the \"username@companyname.com\" format, please write program to print the user name of a given email address.\n",
    "## Both user names and company names are composed of letters only.\n",
    "\n",
    "print('Enter the mail id as given format: username@companyname.com ::')\n",
    "email = input()\n",
    "\n",
    "username = email.split('@')\n",
    "companyname = str(username[1]).split('.')\n",
    "\n",
    "print('User name is:',username[0],' ','Company name is:',companyname[0])"
   ]
  },
  {
   "cell_type": "code",
   "execution_count": 25,
   "id": "db153b54-055b-48e5-8880-384f65c4bb07",
   "metadata": {},
   "outputs": [
    {
     "name": "stdout",
     "output_type": "stream",
     "text": [
      "25\n",
      "0\n"
     ]
    }
   ],
   "source": [
    "## Define a class named Shape and its subclass Square. The Square class has an init function which takes a length as argument. \n",
    "## Both classes have a area function which can print the area of the shape where Shape's area is 0 by default.\n",
    "\n",
    "class Shape():\n",
    "    def __init__(self):\n",
    "        pass\n",
    "\n",
    "    def area(self):\n",
    "        return 0\n",
    "\n",
    "class Square(Shape):\n",
    "    def __init__(self,length = 0):\n",
    "        Shape.__init__(self)\n",
    "        self.length = length\n",
    "\n",
    "    def area(self):\n",
    "        return self.length*self.length\n",
    "\n",
    "Asqr = Square(5)\n",
    "print(Asqr.area())      # prints 25 as given argument\n",
    "\n",
    "print(Square().area()) # prints zero as default area"
   ]
  },
  {
   "cell_type": "code",
   "execution_count": null,
   "id": "6d879326-f33f-409d-b877-2b7f358f8b30",
   "metadata": {},
   "outputs": [],
   "source": []
  }
 ],
 "metadata": {
  "kernelspec": {
   "display_name": "Python 3 (ipykernel)",
   "language": "python",
   "name": "python3"
  },
  "language_info": {
   "codemirror_mode": {
    "name": "ipython",
    "version": 3
   },
   "file_extension": ".py",
   "mimetype": "text/x-python",
   "name": "python",
   "nbconvert_exporter": "python",
   "pygments_lexer": "ipython3",
   "version": "3.9.7"
  }
 },
 "nbformat": 4,
 "nbformat_minor": 5
}
