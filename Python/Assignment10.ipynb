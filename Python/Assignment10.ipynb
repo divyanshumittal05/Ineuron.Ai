{
 "cells": [
  {
   "cell_type": "code",
   "execution_count": 3,
   "id": "91c692e9-9bc4-44df-b650-ff96b8b0868f",
   "metadata": {},
   "outputs": [],
   "source": [
    "import numpy as np"
   ]
  },
  {
   "cell_type": "code",
   "execution_count": 5,
   "id": "5ec37b93-762e-40dd-8464-003a4860599b",
   "metadata": {},
   "outputs": [
    {
     "name": "stdout",
     "output_type": "stream",
     "text": [
      "How many element you want to store in list:\n"
     ]
    },
    {
     "name": "stdin",
     "output_type": "stream",
     "text": [
      " 5\n"
     ]
    },
    {
     "name": "stdout",
     "output_type": "stream",
     "text": [
      "Enter the number is list:\n"
     ]
    },
    {
     "name": "stdin",
     "output_type": "stream",
     "text": [
      " 10\n",
      " 12\n",
      " 14\n",
      " 16\n",
      " 18\n"
     ]
    },
    {
     "name": "stdout",
     "output_type": "stream",
     "text": [
      "List is full.\n",
      "Sum is: 70\n",
      "Sum is (2nd method using numpy array): 70\n"
     ]
    }
   ],
   "source": [
    "## Write a Python program to find sum of elements in list?\n",
    "\n",
    "## 1st way\n",
    "\n",
    "print('How many element you want to store in list:')\n",
    "num = int(input())\n",
    "list1 = []\n",
    "total = 0\n",
    "print('Enter the number is list:')\n",
    "for i in range(num):\n",
    "    Number = int(input())\n",
    "    list1.append(Number)\n",
    "    total = total + Number\n",
    "print('List is full.')\n",
    "print('Sum is:',total)\n",
    "\n",
    "## 2nd Way\n",
    "a = np.array(list1)\n",
    "print('Sum is (2nd method using numpy array):',np.sum((list1)))"
   ]
  },
  {
   "cell_type": "code",
   "execution_count": 12,
   "id": "a899bec7-8386-4ffc-8430-19d8008923ef",
   "metadata": {},
   "outputs": [
    {
     "name": "stdout",
     "output_type": "stream",
     "text": [
      "How many element you want to store in list:"
     ]
    },
    {
     "name": "stdin",
     "output_type": "stream",
     "text": [
      " 4\n"
     ]
    },
    {
     "name": "stdout",
     "output_type": "stream",
     "text": [
      "Enter the number is list:\n"
     ]
    },
    {
     "name": "stdin",
     "output_type": "stream",
     "text": [
      " 12\n",
      " 12\n",
      " 12\n",
      " 12\n"
     ]
    },
    {
     "name": "stdout",
     "output_type": "stream",
     "text": [
      "List is full.\n",
      "Multiplication of all number is: 20736\n"
     ]
    }
   ],
   "source": [
    "## Write a Python program to Multiply all numbers in the list?\n",
    "\n",
    "print('How many element you want to store in list:',end='')\n",
    "num = int(input())\n",
    "list1 = []\n",
    "mul = 1\n",
    "print('Enter the number is list:')\n",
    "for i in range(num):\n",
    "    Number = int(input())\n",
    "    list1.append(Number)\n",
    "    mul = mul * Number\n",
    "print('List is full.')   \n",
    "print('Multiplication of all number is:',mul)"
   ]
  },
  {
   "cell_type": "code",
   "execution_count": 13,
   "id": "d75dc658-74e9-4ee7-8f53-deaedae626ac",
   "metadata": {},
   "outputs": [
    {
     "name": "stdout",
     "output_type": "stream",
     "text": [
      "How many element you want to store in list:"
     ]
    },
    {
     "name": "stdin",
     "output_type": "stream",
     "text": [
      " 4\n"
     ]
    },
    {
     "name": "stdout",
     "output_type": "stream",
     "text": [
      "Enter the number is list:\n"
     ]
    },
    {
     "name": "stdin",
     "output_type": "stream",
     "text": [
      " 12\n",
      " 89\n",
      " 45\n",
      " 2\n"
     ]
    },
    {
     "name": "stdout",
     "output_type": "stream",
     "text": [
      "List is full.\n",
      "smallest number in a list: 2\n"
     ]
    }
   ],
   "source": [
    "## Write a Python program to find smallest number in a list?\n",
    "print('How many element you want to store in list:',end='')\n",
    "num = int(input())\n",
    "list1 = []\n",
    "mul = 1\n",
    "print('Enter the number is list:')\n",
    "for i in range(num):\n",
    "    Number = int(input())\n",
    "    list1.append(Number)\n",
    "print('List is full.')  \n",
    "a = np.array(list1)\n",
    "print('smallest number in a list:',np.min((list1)))"
   ]
  },
  {
   "cell_type": "code",
   "execution_count": 14,
   "id": "6b3b9da2-9a1b-41a5-bc22-ce2aef6014ad",
   "metadata": {},
   "outputs": [
    {
     "name": "stdout",
     "output_type": "stream",
     "text": [
      "How many element you want to store in list:"
     ]
    },
    {
     "name": "stdin",
     "output_type": "stream",
     "text": [
      " 5\n"
     ]
    },
    {
     "name": "stdout",
     "output_type": "stream",
     "text": [
      "Enter the number is list:\n"
     ]
    },
    {
     "name": "stdin",
     "output_type": "stream",
     "text": [
      " 12\n",
      " 34\n",
      " 89\n",
      " 567\n",
      " 10\n"
     ]
    },
    {
     "name": "stdout",
     "output_type": "stream",
     "text": [
      "List is full.\n",
      "smallest number in a list: 567\n"
     ]
    }
   ],
   "source": [
    "## Write a Python program to find largest number in a list?\n",
    "print('How many element you want to store in list:',end='')\n",
    "num = int(input())\n",
    "list1 = []\n",
    "mul = 1\n",
    "print('Enter the number is list:')\n",
    "for i in range(num):\n",
    "    Number = int(input())\n",
    "    list1.append(Number)\n",
    "print('List is full.')  \n",
    "a = np.array(list1)\n",
    "print('smallest number in a list:',np.max((list1)))"
   ]
  },
  {
   "cell_type": "code",
   "execution_count": 17,
   "id": "f5dc6469-370a-4a43-a819-66e135f1b2d8",
   "metadata": {},
   "outputs": [
    {
     "name": "stdout",
     "output_type": "stream",
     "text": [
      "How many element you want to store in list:"
     ]
    },
    {
     "name": "stdin",
     "output_type": "stream",
     "text": [
      " 5\n"
     ]
    },
    {
     "name": "stdout",
     "output_type": "stream",
     "text": [
      "Enter the number is list:\n"
     ]
    },
    {
     "name": "stdin",
     "output_type": "stream",
     "text": [
      " 12\n",
      " 67\n",
      " 34\n",
      " 89\n",
      " 87\n"
     ]
    },
    {
     "name": "stdout",
     "output_type": "stream",
     "text": [
      "List is full.\n",
      "Second Largest Number is:\n",
      "87\n"
     ]
    }
   ],
   "source": [
    "## Write a Python program to find second largest number in a list?\n",
    "print('How many element you want to store in list:',end='')\n",
    "num = int(input())\n",
    "list1 = []\n",
    "print('Enter the number is list:')\n",
    "for i in range(num):\n",
    "    Number = int(input())\n",
    "    list1.append(Number)\n",
    "print('List is full.')\n",
    "\n",
    "a = np.array(list1)\n",
    "b = np.sort(a)\n",
    "\n",
    "print('Second Largest Number is:')\n",
    "print(b[-2])"
   ]
  },
  {
   "cell_type": "code",
   "execution_count": 18,
   "id": "3262a7f2-43ca-420e-b695-cac3f9f7f32f",
   "metadata": {},
   "outputs": [
    {
     "name": "stdout",
     "output_type": "stream",
     "text": [
      "How many element you want to store in list:"
     ]
    },
    {
     "name": "stdin",
     "output_type": "stream",
     "text": [
      " 6\n"
     ]
    },
    {
     "name": "stdout",
     "output_type": "stream",
     "text": [
      "Enter the number is list:\n"
     ]
    },
    {
     "name": "stdin",
     "output_type": "stream",
     "text": [
      " 12\n",
      " 56\n",
      " 78\n",
      " 92\n",
      " 45\n",
      " 89\n"
     ]
    },
    {
     "name": "stdout",
     "output_type": "stream",
     "text": [
      "List is full.\n"
     ]
    },
    {
     "name": "stdin",
     "output_type": "stream",
     "text": [
      "Enter the N largest elements: 3\n"
     ]
    },
    {
     "name": "stdout",
     "output_type": "stream",
     "text": [
      "3 Largest Number is:\n",
      "78\n"
     ]
    }
   ],
   "source": [
    "## Write a Python program to find N largest elements from a list?\n",
    "print('How many element you want to store in list:',end='')\n",
    "num = int(input())\n",
    "list1 = []\n",
    "print('Enter the number is list:')\n",
    "for i in range(num):\n",
    "    Number = int(input())\n",
    "    list1.append(Number)\n",
    "print('List is full.')\n",
    "\n",
    "a = np.array(list1)\n",
    "b = np.sort(a)\n",
    "N = int(input('Enter the N largest elements:'))\n",
    "print(N,'Largest Number is:')\n",
    "print(b[-N])"
   ]
  },
  {
   "cell_type": "code",
   "execution_count": 22,
   "id": "9f2dae47-1918-48b5-adb5-0feee023053a",
   "metadata": {},
   "outputs": [
    {
     "name": "stdout",
     "output_type": "stream",
     "text": [
      "How many element you want to store in list:"
     ]
    },
    {
     "name": "stdin",
     "output_type": "stream",
     "text": [
      " 5\n"
     ]
    },
    {
     "name": "stdout",
     "output_type": "stream",
     "text": [
      "Enter the number is list:\n"
     ]
    },
    {
     "name": "stdin",
     "output_type": "stream",
     "text": [
      " 12\n",
      " 54\n",
      " 78\n",
      " 98\n",
      " 67\n"
     ]
    },
    {
     "name": "stdout",
     "output_type": "stream",
     "text": [
      "List is full.\n",
      "[12, 54, 78, 98]\n"
     ]
    }
   ],
   "source": [
    "## Write a Python program to print even numbers in a list?\n",
    "print('How many element you want to store in list:',end='')\n",
    "num = int(input())\n",
    "list1 = []\n",
    "print('Enter the number is list:')\n",
    "for i in range(num):\n",
    "    Number = int(input())\n",
    "    list1.append(Number)\n",
    "print('List is full.')\n",
    "\n",
    "even = []\n",
    "for i in range(len(list1)):\n",
    "    if list1[i]%2==0:\n",
    "        even.append(list1[i])\n",
    "print(even)"
   ]
  },
  {
   "cell_type": "code",
   "execution_count": 23,
   "id": "d6de8a2e-376e-4409-9eb8-e0df46fe552b",
   "metadata": {},
   "outputs": [
    {
     "name": "stdout",
     "output_type": "stream",
     "text": [
      "How many element you want to store in list:"
     ]
    },
    {
     "name": "stdin",
     "output_type": "stream",
     "text": [
      " 5\n"
     ]
    },
    {
     "name": "stdout",
     "output_type": "stream",
     "text": [
      "Enter the number is list:\n"
     ]
    },
    {
     "name": "stdin",
     "output_type": "stream",
     "text": [
      " 12\n",
      " 45\n",
      " 76\n",
      " 34\n",
      " 89\n"
     ]
    },
    {
     "name": "stdout",
     "output_type": "stream",
     "text": [
      "List is full.\n",
      "[45, 89]\n"
     ]
    }
   ],
   "source": [
    "## Write a Python program to print odd numbers in a List?\n",
    "print('How many element you want to store in list:',end='')\n",
    "num = int(input())\n",
    "list1 = []\n",
    "print('Enter the number is list:')\n",
    "for i in range(num):\n",
    "    Number = int(input())\n",
    "    list1.append(Number)\n",
    "print('List is full.')\n",
    "\n",
    "odd = []\n",
    "for i in range(len(list1)):\n",
    "    if list1[i]%2!=0:\n",
    "        odd.append(list1[i])\n",
    "print(odd)"
   ]
  },
  {
   "cell_type": "code",
   "execution_count": 53,
   "id": "b07b6d6e-4a4a-4ed7-a574-ee2a728a5cb3",
   "metadata": {},
   "outputs": [
    {
     "name": "stdout",
     "output_type": "stream",
     "text": [
      "Before the elimination: [12, 45, [], 46, [], 89, []]\n",
      "After Eliminating The: [12, 45, 46, 89]\n"
     ]
    }
   ],
   "source": [
    "## Write a Python program to Remove empty List from List?\n",
    "l1 = [12,45,[],46,[],89,[]]\n",
    "l2 = []\n",
    "for i in range(len(l1)):\n",
    "    if l1[i]!=[]:\n",
    "        l2.append(l1[i])\n",
    "print('Before the elimination:',l1)\n",
    "print('After Eliminating The:',l2)"
   ]
  },
  {
   "cell_type": "code",
   "execution_count": 42,
   "id": "9932ddfc-47b7-42b4-92ff-815b906accfb",
   "metadata": {},
   "outputs": [
    {
     "name": "stdout",
     "output_type": "stream",
     "text": [
      "How many element you want to store in list:"
     ]
    },
    {
     "name": "stdin",
     "output_type": "stream",
     "text": [
      " 4\n"
     ]
    },
    {
     "name": "stdout",
     "output_type": "stream",
     "text": [
      "Enter the number is list:\n"
     ]
    },
    {
     "name": "stdin",
     "output_type": "stream",
     "text": [
      " 12\n",
      " 13\n",
      " 14\n",
      " 15\n"
     ]
    },
    {
     "name": "stdout",
     "output_type": "stream",
     "text": [
      "List is full.\n",
      "Before Cloning the list: [12, 13, 14, 15]\n",
      "After Cloning the list: [12, 13, 14, 15]\n"
     ]
    }
   ],
   "source": [
    "## Write a Python program to Cloning or Copying a list?\n",
    "print('How many element you want to store in list:',end='')\n",
    "num = int(input())\n",
    "list1 = []\n",
    "print('Enter the number is list:')\n",
    "for i in range(num):\n",
    "    Number = int(input())\n",
    "    list1.append(Number)\n",
    "print('List is full.')  \n",
    "print('Before Cloning the list:',list1)\n",
    "## list1.copy\n",
    "list2 = list1\n",
    "print('After Cloning the list:',list2)"
   ]
  },
  {
   "cell_type": "code",
   "execution_count": 45,
   "id": "e6238514-2816-4c45-aa99-760f615cce45",
   "metadata": {},
   "outputs": [
    {
     "name": "stdout",
     "output_type": "stream",
     "text": [
      "How many element you want to store in list:"
     ]
    },
    {
     "name": "stdin",
     "output_type": "stream",
     "text": [
      " 7\n"
     ]
    },
    {
     "name": "stdout",
     "output_type": "stream",
     "text": [
      "Enter the number is list:\n"
     ]
    },
    {
     "name": "stdin",
     "output_type": "stream",
     "text": [
      " 12\n",
      " 34\n",
      " 12\n",
      " 56\n",
      " 12\n",
      " 67\n",
      " 12\n"
     ]
    },
    {
     "name": "stdout",
     "output_type": "stream",
     "text": [
      "List is full.\n",
      "Enter a number you want to count occurrences:\n"
     ]
    },
    {
     "name": "stdin",
     "output_type": "stream",
     "text": [
      " 12\n"
     ]
    },
    {
     "name": "stdout",
     "output_type": "stream",
     "text": [
      "Total occurrence is:\n",
      "4\n"
     ]
    }
   ],
   "source": [
    "## Write a Python program to Count occurrences of an element in a list?\n",
    "print('How many element you want to store in list:',end='')\n",
    "num = int(input())\n",
    "list1 = []\n",
    "print('Enter the number is list:')\n",
    "for i in range(num):\n",
    "    Number = int(input())\n",
    "    list1.append(Number)\n",
    "print('List is full.')  \n",
    "print('Enter a number you want to count occurrences:')\n",
    "num1 = int(input())\n",
    "print('Total occurrence is:')\n",
    "print(list1.count(num1))"
   ]
  },
  {
   "cell_type": "code",
   "execution_count": null,
   "id": "e87978fe-735c-4659-bde8-964544120483",
   "metadata": {},
   "outputs": [],
   "source": []
  }
 ],
 "metadata": {
  "kernelspec": {
   "display_name": "Python 3 (ipykernel)",
   "language": "python",
   "name": "python3"
  },
  "language_info": {
   "codemirror_mode": {
    "name": "ipython",
    "version": 3
   },
   "file_extension": ".py",
   "mimetype": "text/x-python",
   "name": "python",
   "nbconvert_exporter": "python",
   "pygments_lexer": "ipython3",
   "version": "3.9.7"
  }
 },
 "nbformat": 4,
 "nbformat_minor": 5
}
