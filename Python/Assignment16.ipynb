{
 "cells": [
  {
   "cell_type": "raw",
   "id": "9343cc5e-3204-4c7f-a850-c33ec3ec798d",
   "metadata": {},
   "source": [
    "Write a function that stutters a word as if someone is struggling to read it. The first two letters are repeated twice with an ellipsis ... and space after each, and then the word is pronounced with a question mark ?. Examples stutter('incredible') ➞ 'in... in... incredible?' stutter('enthusiastic') ➞ 'en... en... enthusiastic?' stutter('outstanding') ➞ 'ou... ou... outstanding?'"
   ]
  },
  {
   "cell_type": "code",
   "execution_count": 6,
   "id": "a26ebddf-098f-4972-80ba-e283a01c15f7",
   "metadata": {},
   "outputs": [
    {
     "name": "stdout",
     "output_type": "stream",
     "text": [
      "Enter a word:\n"
     ]
    },
    {
     "name": "stdin",
     "output_type": "stream",
     "text": [
      " incredible\n"
     ]
    },
    {
     "name": "stdout",
     "output_type": "stream",
     "text": [
      "in ...  in ...  incredible ?\n"
     ]
    }
   ],
   "source": [
    "print('Enter a word:')\n",
    "word = input()\n",
    "\n",
    "def stutter(text):\n",
    "    print(text[:2],'... ',text[:2],'... ',text,'?')\n",
    "    \n",
    "stutter(word)"
   ]
  },
  {
   "cell_type": "raw",
   "id": "5e72f597-29e5-4f5b-9bfc-fb3e8e2104fe",
   "metadata": {},
   "source": [
    "Create a function that takes an angle in radians and returns the corresponding angle in degrees rounded to one decimal place."
   ]
  },
  {
   "cell_type": "code",
   "execution_count": 9,
   "id": "2fa95066-d9ae-4a73-b05c-2297ac680a74",
   "metadata": {},
   "outputs": [
    {
     "name": "stdout",
     "output_type": "stream",
     "text": [
      "Enter anlge in radian:\n"
     ]
    },
    {
     "name": "stdin",
     "output_type": "stream",
     "text": [
      " 34\n"
     ]
    },
    {
     "name": "stdout",
     "output_type": "stream",
     "text": [
      "Angle in degree is: 1948.1\n"
     ]
    }
   ],
   "source": [
    "def angle_degree():\n",
    "    print('Enter anlge in radian:')\n",
    "    rad = eval(input())\n",
    "    \n",
    "    deg = rad * 57.2958\n",
    "    print('Angle in degree is:',round(deg,1))\n",
    "\n",
    "angle_degree()"
   ]
  },
  {
   "cell_type": "raw",
   "id": "41ef582b-d24d-4fba-97b9-de34a59f2e03",
   "metadata": {},
   "source": [
    "In this challenge, establish if a given integer num is a Curzon number. If 1 plus 2 elevated to num is exactly divisible by 1 plus 2 multiplied by num, then num is a Curzon number. Given a non-negative integer num, implement a function that returns True if num is a Curzon number, or False otherwise."
   ]
  },
  {
   "cell_type": "code",
   "execution_count": 11,
   "id": "2d753156-2e8d-47e7-a8ac-4b6912152888",
   "metadata": {},
   "outputs": [],
   "source": [
    "def curzon_num():\n",
    "    print('Enter a number:')\n",
    "    N = int(input())\n",
    "    a = 2**N + 1\n",
    "    b = 2*N + 1\n",
    "    if a%b == 0:\n",
    "        return True\n",
    "    else:\n",
    "        return False"
   ]
  },
  {
   "cell_type": "code",
   "execution_count": 12,
   "id": "189a2130-acf3-45b6-9da9-3576db3e457c",
   "metadata": {},
   "outputs": [
    {
     "name": "stdout",
     "output_type": "stream",
     "text": [
      "Enter a number:\n"
     ]
    },
    {
     "name": "stdin",
     "output_type": "stream",
     "text": [
      " 5\n"
     ]
    },
    {
     "data": {
      "text/plain": [
       "True"
      ]
     },
     "execution_count": 12,
     "metadata": {},
     "output_type": "execute_result"
    }
   ],
   "source": [
    "curzon_num()"
   ]
  },
  {
   "cell_type": "raw",
   "id": "63b05e94-cee3-4f40-a731-c92bf03209bf",
   "metadata": {},
   "source": [
    "Given the side length x find the area of a hexagon."
   ]
  },
  {
   "cell_type": "code",
   "execution_count": 14,
   "id": "9bfd9533-fe3a-4a0d-aa3b-997463bcd11e",
   "metadata": {},
   "outputs": [
    {
     "name": "stdout",
     "output_type": "stream",
     "text": [
      "Enter the side length:\n"
     ]
    },
    {
     "name": "stdin",
     "output_type": "stream",
     "text": [
      " 45\n"
     ]
    },
    {
     "name": "stdout",
     "output_type": "stream",
     "text": [
      "Area of hexagon is: 5261.1\n"
     ]
    }
   ],
   "source": [
    "def area():\n",
    "    print('Enter the side length:')\n",
    "    side = int(input())\n",
    "    \n",
    "    area = (3*(3**(1/2))*(side**2))/2\n",
    "    print('Area of hexagon is:',round(area,2))\n",
    "\n",
    "area()"
   ]
  },
  {
   "cell_type": "raw",
   "id": "84a9db18-6dc9-4688-b7ab-011d49f1beab",
   "metadata": {},
   "source": [
    "Create a function that returns a base-2 (binary) representation of a base-10 (decimal) string number. To convert is simple: ((2) means base-2 and (10) means base-10) 010101001(2) = 1 + 8 + 32 + 128."
   ]
  },
  {
   "cell_type": "code",
   "execution_count": 33,
   "id": "e03d2691-aa03-493a-94d5-0de0275fdcf1",
   "metadata": {},
   "outputs": [],
   "source": [
    "def binary_to_dec():\n",
    "    print('Enter a binary number:')\n",
    "    binary = int(input())\n",
    "    \n",
    "    add = 0\n",
    "    for i in range(len(str(binary))+1):\n",
    "        ldigit = binary % 10\n",
    "        add = add + (2**i)*ldigit\n",
    "        binary = binary//10\n",
    "    print('Decimal number is:',add)"
   ]
  },
  {
   "cell_type": "code",
   "execution_count": 35,
   "id": "cbf4f471-c9a7-446b-8e7c-497c0fff4c38",
   "metadata": {},
   "outputs": [
    {
     "name": "stdout",
     "output_type": "stream",
     "text": [
      "Enter a binary number:\n"
     ]
    },
    {
     "name": "stdin",
     "output_type": "stream",
     "text": [
      " 010101001\n"
     ]
    },
    {
     "name": "stdout",
     "output_type": "stream",
     "text": [
      "Decimal number is: 169\n"
     ]
    }
   ],
   "source": [
    "binary_to_dec()"
   ]
  },
  {
   "cell_type": "code",
   "execution_count": null,
   "id": "6f412e71-2642-42b2-a53f-9a31c5fcd242",
   "metadata": {},
   "outputs": [],
   "source": []
  }
 ],
 "metadata": {
  "kernelspec": {
   "display_name": "Python 3 (ipykernel)",
   "language": "python",
   "name": "python3"
  },
  "language_info": {
   "codemirror_mode": {
    "name": "ipython",
    "version": 3
   },
   "file_extension": ".py",
   "mimetype": "text/x-python",
   "name": "python",
   "nbconvert_exporter": "python",
   "pygments_lexer": "ipython3",
   "version": "3.9.7"
  }
 },
 "nbformat": 4,
 "nbformat_minor": 5
}
