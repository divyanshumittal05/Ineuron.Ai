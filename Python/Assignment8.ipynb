{
 "cells": [
  {
   "cell_type": "code",
   "execution_count": 1,
   "id": "736d193b-35eb-48e2-b944-86c99ecb4c65",
   "metadata": {},
   "outputs": [],
   "source": [
    "import random"
   ]
  },
  {
   "cell_type": "code",
   "execution_count": 2,
   "id": "1e15fb3e-3b7c-4dd1-9243-a01211ef7bf3",
   "metadata": {},
   "outputs": [],
   "source": [
    "import numpy as np"
   ]
  },
  {
   "cell_type": "code",
   "execution_count": 7,
   "id": "9ac4cbf5-d4c6-4b3f-8cc7-6f141a1793bc",
   "metadata": {},
   "outputs": [
    {
     "name": "stdout",
     "output_type": "stream",
     "text": [
      "Addition Of Two Matrix is:\n",
      "[[1.74812783 1.12874964]\n",
      " [0.43546155 1.02340161]\n",
      " [0.5114942  1.64186863]\n",
      " [1.26293033 0.44952438]\n",
      " [0.81994718 1.3567486 ]]\n"
     ]
    }
   ],
   "source": [
    "## Write a Python Program to Add Two Matrices?\n",
    "\n",
    "M1 = np.random.rand(10).reshape(5,2)\n",
    "M2 = np.random.rand(10).reshape(5,2)\n",
    "\n",
    "print('Addition Of Two Matrix is:')\n",
    "print(M1+M2)"
   ]
  },
  {
   "cell_type": "code",
   "execution_count": 8,
   "id": "1fb72329-badb-4285-8dff-15efe85cdfee",
   "metadata": {},
   "outputs": [
    {
     "name": "stdout",
     "output_type": "stream",
     "text": [
      "Multiplication Of Matrix is:\n",
      "[[ 40.          51.85185185]\n",
      " [ 65.18518519  80.        ]\n",
      " [ 96.2962963  114.07407407]\n",
      " [133.33333333 154.07407407]\n",
      " [176.2962963  200.        ]]\n"
     ]
    }
   ],
   "source": [
    "## Write a Python Program to Multiply Two Matrices?\n",
    "\n",
    "M1 = np.linspace(4,10,10).reshape(5,2)\n",
    "M2 = np.linspace(10,20,10).reshape(5,2)\n",
    "\n",
    "print('Multiplication Of Matrix is:')\n",
    "print(M1*M2)"
   ]
  },
  {
   "cell_type": "code",
   "execution_count": 18,
   "id": "4a8ce13b-ea22-47dc-ae92-462020e37416",
   "metadata": {},
   "outputs": [
    {
     "name": "stdout",
     "output_type": "stream",
     "text": [
      "Transpose of the Matrix is:\n"
     ]
    },
    {
     "data": {
      "text/plain": [
       "array([[0.14435865, 0.32749149],\n",
       "       [0.43885121, 0.97509258],\n",
       "       [0.7851096 , 0.15695044],\n",
       "       [0.02029557, 0.15570502],\n",
       "       [0.82168125, 0.10142392]])"
      ]
     },
     "execution_count": 18,
     "metadata": {},
     "output_type": "execute_result"
    }
   ],
   "source": [
    "## Write a Python Program to Transpose a Matrix?\n",
    "\n",
    "M1 = np.random.rand(10).reshape(2,5)\n",
    "M1\n",
    "\n",
    "print('Transpose of the Matrix is:')\n",
    "M1.transpose()"
   ]
  },
  {
   "cell_type": "code",
   "execution_count": 22,
   "id": "00a278e7-86e8-4689-88a7-3d18114c5eea",
   "metadata": {},
   "outputs": [
    {
     "data": {
      "text/plain": [
       "array(['Diksha', 'Divit', 'Divya', 'Divyansh', 'Divyanshu', 'Diya',\n",
       "       'Gatik'], dtype='<U9')"
      ]
     },
     "execution_count": 22,
     "metadata": {},
     "output_type": "execute_result"
    }
   ],
   "source": [
    "## Write a Python Program to Sort Words in Alphabetic Order?\n",
    "\n",
    "list1 = ['Divya','Diya','Divyanshu','Divit','Diksha','Gatik','Divyansh']\n",
    "list2 = np.array(list1)\n",
    "list2\n",
    "np.sort(list2)"
   ]
  },
  {
   "cell_type": "code",
   "execution_count": 26,
   "id": "99ec9feb-4d89-4e1e-81f9-e3cddcac014c",
   "metadata": {},
   "outputs": [
    {
     "name": "stdin",
     "output_type": "stream",
     "text": [
      "Enter a string : Hello !! My Name Is, Div yanshu\n"
     ]
    },
    {
     "name": "stdout",
     "output_type": "stream",
     "text": [
      "Hello  My Name Is Div yanshu\n"
     ]
    }
   ],
   "source": [
    "## Write a Python Program to Remove Punctuation From a String?\n",
    "\n",
    "import string\n",
    "\n",
    "str1 = input('Enter a string :')\n",
    "\n",
    "str1 = str1.translate(str.maketrans('', '', string.punctuation))\n",
    "print(str1)"
   ]
  },
  {
   "cell_type": "code",
   "execution_count": 31,
   "id": "8fb9c88b-8f0f-49ac-8191-279ac0ae1d25",
   "metadata": {},
   "outputs": [
    {
     "name": "stdout",
     "output_type": "stream",
     "text": [
      "The string after punctuation filter : Hello  My Name Is Div yanshu\n"
     ]
    }
   ],
   "source": [
    "## Another Way\n",
    "punc = '''!()-[]{};:'\"\\,<>./?@#$%^&*_~'''\n",
    "for ele in str1:\n",
    "    if ele in punc:\n",
    "        str1 = str1.replace(ele, \"\")\n",
    "print(\"The string after punctuation filter : \" + str1)"
   ]
  },
  {
   "cell_type": "code",
   "execution_count": null,
   "id": "f9e43b71-20b4-4526-9980-26441af48f2d",
   "metadata": {},
   "outputs": [],
   "source": []
  }
 ],
 "metadata": {
  "kernelspec": {
   "display_name": "Python 3 (ipykernel)",
   "language": "python",
   "name": "python3"
  },
  "language_info": {
   "codemirror_mode": {
    "name": "ipython",
    "version": 3
   },
   "file_extension": ".py",
   "mimetype": "text/x-python",
   "name": "python",
   "nbconvert_exporter": "python",
   "pygments_lexer": "ipython3",
   "version": "3.9.7"
  }
 },
 "nbformat": 4,
 "nbformat_minor": 5
}
