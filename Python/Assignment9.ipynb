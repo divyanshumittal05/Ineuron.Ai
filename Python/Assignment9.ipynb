{
 "cells": [
  {
   "cell_type": "code",
   "execution_count": 5,
   "id": "f43002eb-ab23-49aa-9e6c-fcd08386ce77",
   "metadata": {},
   "outputs": [
    {
     "name": "stdout",
     "output_type": "stream",
     "text": [
      "Enter a number:\n"
     ]
    },
    {
     "name": "stdin",
     "output_type": "stream",
     "text": [
      " 89\n"
     ]
    },
    {
     "name": "stdout",
     "output_type": "stream",
     "text": [
      "89 is Disarium Number.\n"
     ]
    }
   ],
   "source": [
    "## Write a Python program to check if the given number is a Disarium Number?\n",
    "print('Enter a number:')\n",
    "num = int(input())\n",
    "add = 0\n",
    "num1 = num\n",
    "for i in range(0,len(str(num1))):\n",
    "    ldigit = num%10\n",
    "    num = num//10\n",
    "    add = add + pow(ldigit,len(str(num1))-i)\n",
    "\n",
    "if num1 == add:\n",
    "    print(num1,'is Disarium Number.')\n",
    "else:\n",
    "    print(num1,'is not Disarium Number.')"
   ]
  },
  {
   "cell_type": "code",
   "execution_count": 18,
   "id": "8844ec62-7436-4dcd-8408-1b2476430a0e",
   "metadata": {},
   "outputs": [
    {
     "name": "stdout",
     "output_type": "stream",
     "text": [
      "Enter The Number (upper limit):\n"
     ]
    },
    {
     "name": "stdin",
     "output_type": "stream",
     "text": [
      " 100\n"
     ]
    },
    {
     "name": "stdout",
     "output_type": "stream",
     "text": [
      "Disarium Number upto: 100 --\n",
      "1\n",
      "2\n",
      "3\n",
      "4\n",
      "5\n",
      "6\n",
      "7\n",
      "8\n",
      "9\n",
      "89\n"
     ]
    }
   ],
   "source": [
    "## Write a Python program to print all disarium numbers between 1 to 100?\n",
    "\n",
    "def disarium_num(num):\n",
    "    add = 0\n",
    "    num1 = num\n",
    "    for i in range(0,len(str(num1))):\n",
    "        ldigit = num%10\n",
    "        num = num//10\n",
    "        add = add + pow(ldigit,len(str(num1))-i)\n",
    "\n",
    "    if num1 == add:\n",
    "        print(num1)\n",
    "\n",
    "print('Enter The Number (upper limit):')\n",
    "x=int(input())\n",
    "\n",
    "print('Disarium Number upto:',x,'--')\n",
    "\n",
    "for i in range(1,x+1):\n",
    "      disarium_num(i)"
   ]
  },
  {
   "cell_type": "code",
   "execution_count": 27,
   "id": "f25c1a85-362a-40db-8a90-f1e3e60cd668",
   "metadata": {},
   "outputs": [
    {
     "name": "stdout",
     "output_type": "stream",
     "text": [
      "Enter a number:\n"
     ]
    },
    {
     "name": "stdin",
     "output_type": "stream",
     "text": [
      " 12\n"
     ]
    },
    {
     "name": "stdout",
     "output_type": "stream",
     "text": [
      "12 is not a happy number\n"
     ]
    }
   ],
   "source": [
    "## Write a Python program to check if the given number is Happy Number?\n",
    "  \n",
    "def isHappyNumber(num):  \n",
    "    rem = sum = 0;  \n",
    "    \n",
    "    while(num > 0):  \n",
    "        rem = num%10;  \n",
    "        sum = sum + (rem*rem);\n",
    "        num = num//10;  \n",
    "    return sum;  \n",
    "      \n",
    "print('Enter a number:')\n",
    "num = int(input())\n",
    "result = num;  \n",
    "\n",
    "while(result != 1 and result != 4):  \n",
    "    result = isHappyNumber(result);\n",
    "   \n",
    "if(result == 1):  \n",
    "    print(str(num) + \" is a happy number\");  \n",
    "\n",
    "elif(result == 4):  \n",
    "    print(str(num) + \" is not a happy number\");    "
   ]
  },
  {
   "cell_type": "code",
   "execution_count": 38,
   "id": "df3bdcf1-dbbb-4e47-bb9f-66b17be3c187",
   "metadata": {},
   "outputs": [
    {
     "name": "stdout",
     "output_type": "stream",
     "text": [
      "List of happy numbers between 1 and 100: \n",
      "1\n",
      "7\n",
      "10\n",
      "13\n",
      "19\n",
      "23\n",
      "28\n",
      "31\n",
      "32\n",
      "44\n",
      "49\n",
      "68\n",
      "70\n",
      "79\n",
      "82\n",
      "86\n",
      "91\n",
      "94\n",
      "97\n",
      "100\n"
     ]
    }
   ],
   "source": [
    "## Write a Python program to print all happy numbers between 1 and 100?\n",
    "\n",
    "def isHappyNumber(num):  \n",
    "    rem = sum = 0;  \n",
    "    \n",
    "    while(num > 0):  \n",
    "        rem = num%10;  \n",
    "        sum = sum + (rem*rem);\n",
    "        num = num//10;  \n",
    "    return sum; \n",
    "\n",
    "print(\"List of happy numbers between 1 and 100: \");    \n",
    "for i in range(1, 101):    \n",
    "    result = i;    \n",
    "    \n",
    "    while(result != 1 and result != 4):    \n",
    "        result = isHappyNumber(result);    \n",
    "        \n",
    "    if(result == 1):    \n",
    "        print(i)"
   ]
  },
  {
   "cell_type": "code",
   "execution_count": 44,
   "id": "c7e7bde8-a09d-4dd5-8d7b-801b493c98e7",
   "metadata": {},
   "outputs": [
    {
     "name": "stdout",
     "output_type": "stream",
     "text": [
      "Enter a number to check whether is Harshad Number or Not:\n"
     ]
    },
    {
     "name": "stdin",
     "output_type": "stream",
     "text": [
      " 156\n"
     ]
    },
    {
     "name": "stdout",
     "output_type": "stream",
     "text": [
      "156 is Harshad Number\n"
     ]
    }
   ],
   "source": [
    "## Write a Python program to determine whether the given number is a Harshad Number?\n",
    "\n",
    "print('Enter a number to check whether is Harshad Number or Not:')\n",
    "num = int(input())\n",
    "res = num\n",
    "add = 0\n",
    "\n",
    "for i in range(len(str(num))):\n",
    "    digit = num%10\n",
    "    num = num//10\n",
    "    add = add + digit\n",
    "\n",
    "if res%add==0:\n",
    "    print(res,'is Harshad Number')\n",
    "else:\n",
    "    print(res,'is Not Harshad Number')\n",
    "    "
   ]
  },
  {
   "cell_type": "code",
   "execution_count": 52,
   "id": "045de02f-3464-4e67-8177-10cfeb31a831",
   "metadata": {},
   "outputs": [
    {
     "name": "stdout",
     "output_type": "stream",
     "text": [
      "Enter the upper limit:\n"
     ]
    },
    {
     "name": "stdin",
     "output_type": "stream",
     "text": [
      " 100\n"
     ]
    },
    {
     "name": "stdout",
     "output_type": "stream",
     "text": [
      "all pronic numbers between 1 and 100\n",
      "2  6  12  20  30  42  56  72  90  "
     ]
    }
   ],
   "source": [
    "## Write a Python program to print all pronic numbers between 1 and 100?\n",
    "\n",
    "print('Enter the upper limit:')\n",
    "num = int(input())\n",
    "\n",
    "print('all pronic numbers between 1 and',num)\n",
    "for i in range(1,num+1):\n",
    "    for j in range(1,num//8):\n",
    "        if i == j*(j+1):\n",
    "            print(i,' ',end='')"
   ]
  },
  {
   "cell_type": "code",
   "execution_count": null,
   "id": "6cb73d1c-408e-4aa0-b294-14bbf27045f4",
   "metadata": {},
   "outputs": [],
   "source": []
  }
 ],
 "metadata": {
  "kernelspec": {
   "display_name": "Python 3 (ipykernel)",
   "language": "python",
   "name": "python3"
  },
  "language_info": {
   "codemirror_mode": {
    "name": "ipython",
    "version": 3
   },
   "file_extension": ".py",
   "mimetype": "text/x-python",
   "name": "python",
   "nbconvert_exporter": "python",
   "pygments_lexer": "ipython3",
   "version": "3.9.7"
  }
 },
 "nbformat": 4,
 "nbformat_minor": 5
}
