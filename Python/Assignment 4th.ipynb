{
 "cells": [
  {
   "cell_type": "code",
   "execution_count": 7,
   "id": "6b60a7f2-fdfa-4209-a2ea-23442e0c3ded",
   "metadata": {},
   "outputs": [
    {
     "name": "stdin",
     "output_type": "stream",
     "text": [
      "Enter a number: 6\n"
     ]
    },
    {
     "name": "stdout",
     "output_type": "stream",
     "text": [
      "Factorial of 6 is: 720\n"
     ]
    }
   ],
   "source": [
    "## Write a Python Program to Find the Factorial of a Number?\n",
    "\n",
    "Num1 = int(input('Enter a number:'))\n",
    "num = 1\n",
    "for i in range(1,Num1+1):\n",
    "    num = num*i\n",
    "print('Factorial of',Num1,'is:',num)"
   ]
  },
  {
   "cell_type": "code",
   "execution_count": 10,
   "id": "738dc951-51bb-4421-a7c0-cdb012a1fc49",
   "metadata": {},
   "outputs": [
    {
     "name": "stdin",
     "output_type": "stream",
     "text": [
      "Enter a number: 5\n"
     ]
    },
    {
     "name": "stdout",
     "output_type": "stream",
     "text": [
      "0 x 5 : 0\n",
      "1 x 5 : 5\n",
      "2 x 5 : 10\n",
      "3 x 5 : 15\n",
      "4 x 5 : 20\n",
      "5 x 5 : 25\n",
      "6 x 5 : 30\n",
      "7 x 5 : 35\n",
      "8 x 5 : 40\n",
      "9 x 5 : 45\n",
      "10 x 5 : 50\n"
     ]
    }
   ],
   "source": [
    " ## Write a Python Program to Display the multiplication Table?\n",
    "\n",
    "Num1 = int(input('Enter a number:'))\n",
    "for i in range(0,11):\n",
    "    res = i*Num1\n",
    "    print(i,'x',Num1,':',res)"
   ]
  },
  {
   "cell_type": "code",
   "execution_count": 25,
   "id": "e4b573f8-4c6e-4c83-901f-04008cccce63",
   "metadata": {},
   "outputs": [
    {
     "name": "stdin",
     "output_type": "stream",
     "text": [
      "Enter a number: 5\n"
     ]
    },
    {
     "name": "stdout",
     "output_type": "stream",
     "text": [
      "Fibonacci Series: 1\n",
      "Fibonacci Series: 2\n",
      "Fibonacci Series: 3\n",
      "Fibonacci Series: 5\n",
      "Fibonacci Series: 8\n",
      "Fibonacci value at 5 is: 8\n"
     ]
    }
   ],
   "source": [
    "## Write a Python Program to Print the Fibonacci sequence?\n",
    "\n",
    "Num = int(input('Enter a number:'))\n",
    "a=0\n",
    "b=1\n",
    "for i in range(0,Num):\n",
    "    c=a+b\n",
    "    a=b\n",
    "    b=c\n",
    "    print('Fibonacci Series:',c)\n",
    "print('Fibonacci value at',Num,'is:',c)"
   ]
  },
  {
   "cell_type": "code",
   "execution_count": 34,
   "id": "84260ca6-d7f9-4800-aa24-c269dac2a49c",
   "metadata": {},
   "outputs": [
    {
     "name": "stdin",
     "output_type": "stream",
     "text": [
      "Enter a number: 371\n"
     ]
    },
    {
     "name": "stdout",
     "output_type": "stream",
     "text": [
      "371 Is A Armstrong Number\n"
     ]
    }
   ],
   "source": [
    "## Write a Python Program to Check Armstrong Number?\n",
    "\n",
    "Num = int(input('Enter a number:'))\n",
    "Nlen = len(str(Num))\n",
    "Copy_Value = Num\n",
    "sums = 0\n",
    "\n",
    "while(Num>0):\n",
    "    ldigit = Num%10\n",
    "    sums = sums + ldigit ** Nlen\n",
    "    Num = Num//10\n",
    "\n",
    "if (Copy_Value == sums):\n",
    "    print(Copy_Value, 'Is A Armstrong Number')\n",
    "else:\n",
    "    print(Copy_Value,'Is Not An Armstrong Number')"
   ]
  },
  {
   "cell_type": "code",
   "execution_count": 38,
   "id": "08eb0357-98cf-422e-b842-3225a1f02d28",
   "metadata": {},
   "outputs": [
    {
     "name": "stdin",
     "output_type": "stream",
     "text": [
      "Enter the lower limit: 1\n",
      "Enter the upper limit: 400\n"
     ]
    },
    {
     "name": "stdout",
     "output_type": "stream",
     "text": [
      "1\n",
      "2\n",
      "3\n",
      "4\n",
      "5\n",
      "6\n",
      "7\n",
      "8\n",
      "9\n",
      "153\n",
      "370\n",
      "371\n"
     ]
    }
   ],
   "source": [
    "## Write a Python Program to Find Armstrong Number in an Interval?\n",
    "\n",
    "lower = int(input('Enter the lower limit:'))\n",
    "upper = int(input('Enter the upper limit:'))\n",
    "for num in range(lower, upper + 1):\n",
    "    order = len(str(num))\n",
    "    sum = 0\n",
    "    temp = num\n",
    "    while temp > 0:\n",
    "        digit = temp % 10\n",
    "        sum += digit ** order\n",
    "        temp //= 10\n",
    "\n",
    "    if num == sum:\n",
    "        print(num)"
   ]
  },
  {
   "cell_type": "code",
   "execution_count": 42,
   "id": "d8e29227-a053-4c48-8ac7-10cebe58bac0",
   "metadata": {},
   "outputs": [
    {
     "name": "stdin",
     "output_type": "stream",
     "text": [
      "Enter a number do you want to add up (Natural Number): 100\n"
     ]
    },
    {
     "name": "stdout",
     "output_type": "stream",
     "text": [
      "The sum of Natural Number from Zero to 100  is: 5050\n"
     ]
    }
   ],
   "source": [
    "##  Write a Python Program to Find the Sum of Natural Numbers?\n",
    "\n",
    "Num = int(input('Enter a number do you want to add up (Natural Number):'))\n",
    "sums = 0\n",
    "for i in range(0,Num+1):\n",
    "    sums = sums+i\n",
    "print('The sum of Natural Number from Zero to',Num,' is:',sums)"
   ]
  },
  {
   "cell_type": "code",
   "execution_count": null,
   "id": "8551904c-56cf-470a-9903-1ae7a86d1574",
   "metadata": {},
   "outputs": [],
   "source": []
  }
 ],
 "metadata": {
  "kernelspec": {
   "display_name": "Python 3 (ipykernel)",
   "language": "python",
   "name": "python3"
  },
  "language_info": {
   "codemirror_mode": {
    "name": "ipython",
    "version": 3
   },
   "file_extension": ".py",
   "mimetype": "text/x-python",
   "name": "python",
   "nbconvert_exporter": "python",
   "pygments_lexer": "ipython3",
   "version": "3.9.7"
  }
 },
 "nbformat": 4,
 "nbformat_minor": 5
}
