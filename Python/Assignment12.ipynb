{
 "cells": [
  {
   "cell_type": "code",
   "execution_count": 49,
   "id": "71cbc082-ad63-4b1f-9aac-c2a24fc3e271",
   "metadata": {},
   "outputs": [
    {
     "name": "stdout",
     "output_type": "stream",
     "text": [
      "Values are: dict_values([[88, 92, 93, 91], [87, 91, 92, 90], [89, 93, 92, 94], [90, 94, 93, 95]])\n",
      "\n",
      "After Eliminating the repeated values: [87, 88, 89, 90, 91, 92, 93, 94, 95]\n"
     ]
    }
   ],
   "source": [
    "## Write a Python program to Extract Unique values dictionary values?\n",
    "\n",
    "test_dict = {'Divyanshu':[88,92,93,91],\n",
    "            'Divyansh':[87,91,92,90],\n",
    "            'Diya':[89,93,92,94],\n",
    "            'Gatik':[90,94,93,95]}\n",
    "\n",
    "print('Values are:',test_dict.values())\n",
    "res = list(sorted({ele for val in test_dict.values() for ele in val}))\n",
    "print('\\nAfter Eliminating the repeated values:',res)"
   ]
  },
  {
   "cell_type": "code",
   "execution_count": 50,
   "id": "b136a2c7-2f5b-43c3-9699-8d3c3cedfb7c",
   "metadata": {},
   "outputs": [
    {
     "name": "stdout",
     "output_type": "stream",
     "text": [
      "Unique Values Are: [87, 88, 89, 90, 91, 92, 93, 94, 95]\n"
     ]
    }
   ],
   "source": [
    "## 2nd way\n",
    "test_dict = {'Divyanshu':[88,92,93,91],\n",
    "            'Divyansh':[87,91,92,90],\n",
    "            'Diya':[89,93,92,94],\n",
    "            'Gatik':[90,94,93,95]}\n",
    "\n",
    "x = []\n",
    "for i in test_dict.keys():\n",
    "    x.extend(test_dict[i])\n",
    "\n",
    "x =list(set(x))\n",
    "x.sort()\n",
    "\n",
    "print('Unique Values Are:',x)"
   ]
  },
  {
   "cell_type": "code",
   "execution_count": 52,
   "id": "1d54ad6f-95e7-4fab-815f-29f7a3bfd713",
   "metadata": {},
   "outputs": [
    {
     "name": "stdout",
     "output_type": "stream",
     "text": [
      "Sum of all items in a dictionary is:\n"
     ]
    },
    {
     "data": {
      "text/plain": [
       "1464"
      ]
     },
     "execution_count": 52,
     "metadata": {},
     "output_type": "execute_result"
    }
   ],
   "source": [
    "## Write a Python program to find the sum of all items in a dictionary?\n",
    "test_dict = {'Divyanshu':[88,92,93,91],\n",
    "            'Divyansh':[87,91,92,90],\n",
    "            'Diya':[89,93,92,94],\n",
    "            'Gatik':[90,94,93,95]}\n",
    "x = []\n",
    "for i in test_dict.keys():\n",
    "    x.extend(test_dict[i])\n",
    "\n",
    "print('Sum of all items in a dictionary is:')   \n",
    "sum(x)"
   ]
  },
  {
   "cell_type": "code",
   "execution_count": 62,
   "id": "70850942-9274-451d-910a-edd2eb22b92a",
   "metadata": {},
   "outputs": [
    {
     "name": "stdout",
     "output_type": "stream",
     "text": [
      "{'a': [12, 13], 'b': [12, 34], 'c': [12, 45], 'd': [12, 98]}\n",
      "{'a': [12, 13], 'b': [12, 34], 'c': [12, 45], 'd': [12, 98]}\n",
      "{'c': [12, 45], 'd': [12, 98], 'a': [12, 13], 'b': [12, 34]}\n"
     ]
    }
   ],
   "source": [
    "## Write a Python program to Merging two Dictionaries?\n",
    "\n",
    "d1 = {'a':[12,13],'b':[12,34]}\n",
    "d2 = {'c':[12,45],'d':[12,98]}\n",
    "\n",
    "## 1st Way\n",
    "print(d1 | d2)\n",
    "\n",
    "## 2nd Way\n",
    "print({**d1,**d2})\n",
    "\n",
    "## 3rd Way\n",
    "d3 = d2.copy()\n",
    "d3.update(d1)\n",
    "print(d3)"
   ]
  },
  {
   "cell_type": "code",
   "execution_count": 63,
   "id": "577e45be-4939-459a-a83f-3eaf9878bf0b",
   "metadata": {},
   "outputs": [
    {
     "name": "stdout",
     "output_type": "stream",
     "text": [
      "[(1, 'Jan'), (2, 'Feb'), (3, 'March')]\n"
     ]
    }
   ],
   "source": [
    "## Write a Python program to convert key-values list to flat dictionary?\n",
    "test_dict = {'month' : [1, 2, 3],\n",
    "             'name' : ['Jan', 'Feb', 'March']}\n",
    "\n",
    "res = list(zip(test_dict['month'],test_dict['name']))\n",
    "\n",
    "print(res)"
   ]
  },
  {
   "cell_type": "code",
   "execution_count": 65,
   "id": "05408d75-f42f-441e-9712-daf1772bca0b",
   "metadata": {},
   "outputs": [
    {
     "name": "stdout",
     "output_type": "stream",
     "text": [
      "Resultant Dictionary :\n",
      "OrderedDict([('D', '400'), ('A', '100'), ('B', '200'), ('C', '300')])\n"
     ]
    }
   ],
   "source": [
    "## Write a Python program to insertion at the beginning in OrderedDict?\n",
    "\n",
    "##d1 = {'a':1,'b':2}\n",
    "##d2 = {'c':3}\n",
    "##print(d2|d1)\n",
    "\n",
    "from collections import OrderedDict\n",
    "dic1 = OrderedDict([('A', '100'), ('B', '200'), ('C', '300')])\n",
    "insrt = OrderedDict([(\"D\", '400')])\n",
    "  \n",
    "final = OrderedDict(list(insrt.items()) + list(dic1.items()))\n",
    "  \n",
    "# print result\n",
    "print (\"Resultant Dictionary :\")\n",
    "print(final)"
   ]
  },
  {
   "cell_type": "code",
   "execution_count": 68,
   "id": "8b602d72-62cd-4a65-864e-90dc8e115987",
   "metadata": {
    "tags": []
   },
   "outputs": [
    {
     "name": "stdout",
     "output_type": "stream",
     "text": [
      "False\n",
      "True\n"
     ]
    }
   ],
   "source": [
    "## Write a Python program to check order of character in string using OrderedDict()?\n",
    "from collections import OrderedDict \n",
    "def checkOrder(string, pattern): \n",
    "    dic = OrderedDict.fromkeys(string) \n",
    "    ptr = 0\n",
    "    for key,value in dic.items(): \n",
    "        if (key == pattern[ptr]): \n",
    "            ptr = ptr + 1\n",
    "        if (ptr == (len(pattern))): \n",
    "            return 'True'\n",
    "    return 'False'\n",
    "\n",
    "string = 'Study tonight'\n",
    "pattern = 'stu'\n",
    "print (checkOrder(string,pattern))\n",
    "\n",
    "string2= 'Welcome'\n",
    "pattern2= 'cm'\n",
    "print (checkOrder(string2,pattern2)) "
   ]
  },
  {
   "cell_type": "code",
   "execution_count": 1,
   "id": "93b453df-032f-4238-ada2-b109c329f1f3",
   "metadata": {},
   "outputs": [
    {
     "name": "stdout",
     "output_type": "stream",
     "text": [
      "OrderedDict([('rajnish', '9'), ('ravi', '10'), ('sanjeev', '15'), ('suraj', '32'), ('yash', '2')])\n"
     ]
    }
   ],
   "source": [
    "## Write a Python program to sort Python Dictionaries by Key or Value?\n",
    "\n",
    "from collections import OrderedDict\n",
    "\n",
    "dict = {'ravi': '10', 'rajnish': '9',\n",
    "        'sanjeev': '15', 'yash': '2', 'suraj': '32'}\n",
    "\n",
    "res = OrderedDict(sorted(dict.items()))\n",
    "print(res)"
   ]
  },
  {
   "cell_type": "code",
   "execution_count": null,
   "id": "bc00af24-12dd-46b7-bd52-6f7d0ba159e0",
   "metadata": {},
   "outputs": [],
   "source": [
    "## 2nd Way"
   ]
  },
  {
   "cell_type": "code",
   "execution_count": 4,
   "id": "1864fd86-0ed8-4489-a06b-7aa3cda6b18c",
   "metadata": {},
   "outputs": [
    {
     "name": "stdout",
     "output_type": "stream",
     "text": [
      "Keys Are: ['ravi', 'rajnish', 'sanjeev', 'yash', 'suraj']\n",
      "Sorted List: ['rajnish', 'ravi', 'sanjeev', 'suraj', 'yash']\n",
      "Sorted Dict: {'rajnish': '9', 'ravi': '10', 'sanjeev': '15', 'suraj': '32', 'yash': '2'}\n"
     ]
    }
   ],
   "source": [
    "dict1 = list(dict.keys())\n",
    "print('Keys Are:',dict1)\n",
    "dict1.sort()\n",
    "print('Sorted List:',dict1)\n",
    "\n",
    "sorted_dict = {i:dict[i] for i in dict1}\n",
    "print(\"Sorted Dict:\",sorted_dict)"
   ]
  },
  {
   "cell_type": "code",
   "execution_count": null,
   "id": "41c1694c-1f77-43a5-9aa8-2efe8ff49f25",
   "metadata": {},
   "outputs": [],
   "source": []
  }
 ],
 "metadata": {
  "kernelspec": {
   "display_name": "Python 3 (ipykernel)",
   "language": "python",
   "name": "python3"
  },
  "language_info": {
   "codemirror_mode": {
    "name": "ipython",
    "version": 3
   },
   "file_extension": ".py",
   "mimetype": "text/x-python",
   "name": "python",
   "nbconvert_exporter": "python",
   "pygments_lexer": "ipython3",
   "version": "3.9.7"
  }
 },
 "nbformat": 4,
 "nbformat_minor": 5
}
