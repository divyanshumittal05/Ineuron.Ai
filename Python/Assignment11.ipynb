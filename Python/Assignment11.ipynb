{
 "cells": [
  {
   "cell_type": "code",
   "execution_count": 2,
   "id": "47ebea87-bd6c-47ce-bb83-840837ef32d4",
   "metadata": {},
   "outputs": [
    {
     "name": "stdout",
     "output_type": "stream",
     "text": [
      "The List Before The Condition: ['Divyanshu', 'Divyansh', 'Rakhi', 'Archna', 'Mohan', 'Sai Pallvi', 'Anand']\n",
      "The List After The Condition: ['Divyanshu', 'Divyansh', 'Sai Pallvi']\n"
     ]
    }
   ],
   "source": [
    "## Write a Python program to find words which are greater than given length k?\n",
    "\n",
    "## List \n",
    "l1 = ['Divyanshu','Divyansh','Rakhi','Archna','Mohan','Sai Pallvi','Anand']\n",
    "k = 6\n",
    "l2 = []\n",
    "for i in range(len(l1)):\n",
    "    if k<len(l1[i]):\n",
    "        l2.append(l1[i])\n",
    "\n",
    "print('The List Before The Condition:',l1)\n",
    "print('The List After The Condition:',l2)"
   ]
  },
  {
   "cell_type": "code",
   "execution_count": 14,
   "id": "7f33c779-69be-4016-982f-cb90198cfe42",
   "metadata": {},
   "outputs": [
    {
     "name": "stdout",
     "output_type": "stream",
     "text": [
      "Enter a string:\n"
     ]
    },
    {
     "name": "stdin",
     "output_type": "stream",
     "text": [
      " divyanshu mittal going to get a dream life\n"
     ]
    },
    {
     "name": "stdout",
     "output_type": "stream",
     "text": [
      "Enter a len (find words which are greater than given length k):\n"
     ]
    },
    {
     "name": "stdin",
     "output_type": "stream",
     "text": [
      " 4\n"
     ]
    },
    {
     "name": "stdout",
     "output_type": "stream",
     "text": [
      "['divyanshu', 'mittal', 'going', 'to', 'get', 'a', 'dream', 'life']\n",
      "Str after the condition: ['divyanshu', 'mittal', 'going', 'dream']\n"
     ]
    }
   ],
   "source": [
    "## For String\n",
    "\n",
    "print('Enter a string:')\n",
    "str1=input()\n",
    "\n",
    "print('Enter a len (find words which are greater than given length k):')\n",
    "k = int(input())\n",
    "\n",
    "l1 = list(str1.split(' '))\n",
    "print(l1)\n",
    "l2 = []\n",
    "for i in range(len(l1)):\n",
    "    if k<len(l1[i]):\n",
    "        l2.append(l1[i])\n",
    "print('Str after the condition:',l2)"
   ]
  },
  {
   "cell_type": "code",
   "execution_count": 24,
   "id": "0bc91ac2-2196-4a13-8c1e-469252cc619c",
   "metadata": {},
   "outputs": [
    {
     "name": "stdout",
     "output_type": "stream",
     "text": [
      "Enter a string:\n"
     ]
    },
    {
     "name": "stdin",
     "output_type": "stream",
     "text": [
      " divyanshu mittal is good boy\n"
     ]
    },
    {
     "name": "stdout",
     "output_type": "stream",
     "text": [
      "Enter the position of the caharacter which you want to remove:\n"
     ]
    },
    {
     "name": "stdin",
     "output_type": "stream",
     "text": [
      " 12\n"
     ]
    },
    {
     "name": "stdout",
     "output_type": "stream",
     "text": [
      "divyanshu mital is good boy\n"
     ]
    }
   ],
   "source": [
    "## Write a Python program for removing i-th character from a string?\n",
    "\n",
    "print('Enter a string:')\n",
    "str1=input()\n",
    "\n",
    "print('Enter the position of the caharacter which you want to remove:')\n",
    "i = int(input())\n",
    "\n",
    "def remove(str1,i):\n",
    "    a = str1[:i]\n",
    "    b = str1[i+1:]\n",
    "    return a+b\n",
    "\n",
    "print(remove(str1,i))"
   ]
  },
  {
   "cell_type": "code",
   "execution_count": 26,
   "id": "290deeee-7b50-4e08-9efd-cf633492b589",
   "metadata": {},
   "outputs": [
    {
     "name": "stdout",
     "output_type": "stream",
     "text": [
      "Enter a string:\n"
     ]
    },
    {
     "name": "stdin",
     "output_type": "stream",
     "text": [
      " divyanshu going to meet his friends\n"
     ]
    },
    {
     "name": "stdout",
     "output_type": "stream",
     "text": [
      "Spliting the string at tab:\n",
      "['divyanshu', 'going', 'to', 'meet', 'his', 'friends']\n",
      "Join the split string:\n",
      "divyanshu going to meet his friends\n"
     ]
    }
   ],
   "source": [
    "## Write a Python program to split and join a string?\n",
    "\n",
    "print('Enter a string:')\n",
    "str1 = input()\n",
    "\n",
    "## Split operation \n",
    "print('Spliting the string at tab:')\n",
    "print(str1.split(' '))\n",
    "## Join Operation\n",
    "print('Join the split string:')\n",
    "print(' '.join(str1.split(' ')))"
   ]
  },
  {
   "cell_type": "code",
   "execution_count": 46,
   "id": "d0e07f02-66e2-45cc-9a57-1843d6bd869f",
   "metadata": {},
   "outputs": [
    {
     "name": "stdout",
     "output_type": "stream",
     "text": [
      "Enter a string to check whether it is binary or not:\n"
     ]
    },
    {
     "name": "stdin",
     "output_type": "stream",
     "text": [
      " 1010110\n"
     ]
    },
    {
     "name": "stdout",
     "output_type": "stream",
     "text": [
      "String is binary\n"
     ]
    }
   ],
   "source": [
    "## Write a Python to check if a given string is binary string or not?\n",
    "\n",
    "print('Enter a string to check whether it is binary or not:')\n",
    "str1 = input()\n",
    "\n",
    "set1 = {'0','1'}\n",
    "p = set(str1)\n",
    "\n",
    "if p == set1 or p == {'0'} or p =={'1'}:\n",
    "    print('String is binary')\n",
    "else:\n",
    "    print('String is not binary')"
   ]
  },
  {
   "cell_type": "code",
   "execution_count": 47,
   "id": "62710f50-7744-472e-9dca-04db3ea27ca8",
   "metadata": {},
   "outputs": [
    {
     "name": "stdout",
     "output_type": "stream",
     "text": [
      "Enter a string to check whether it is binary or not:\n"
     ]
    },
    {
     "name": "stdin",
     "output_type": "stream",
     "text": [
      " 10123\n"
     ]
    },
    {
     "name": "stdout",
     "output_type": "stream",
     "text": [
      "String is not binary\n"
     ]
    }
   ],
   "source": [
    "## 2nd way\n",
    "print('Enter a string to check whether it is binary or not:')\n",
    "str1 = input()\n",
    "flag = True\n",
    "for char in str1:\n",
    "    if (char == '0' or char == '1'):\n",
    "        continue\n",
    "    else:\n",
    "        flag = False\n",
    "        print('String is not binary')\n",
    "        break;\n",
    "\n",
    "if (flag):\n",
    "    print('String is binary')"
   ]
  },
  {
   "cell_type": "code",
   "execution_count": 81,
   "id": "a98c0dec-1747-4bad-adfb-44e994017930",
   "metadata": {},
   "outputs": [
    {
     "name": "stdout",
     "output_type": "stream",
     "text": [
      "Enter a string:\n"
     ]
    },
    {
     "name": "stdin",
     "output_type": "stream",
     "text": [
      " It is good\n"
     ]
    },
    {
     "name": "stdout",
     "output_type": "stream",
     "text": [
      "Enter a string:\n"
     ]
    },
    {
     "name": "stdin",
     "output_type": "stream",
     "text": [
      " It is bad\n"
     ]
    },
    {
     "name": "stdout",
     "output_type": "stream",
     "text": [
      "Uncommon Words are:\n",
      "['good', 'bad']\n"
     ]
    }
   ],
   "source": [
    "## Write a Python program to find uncommon words from two Strings?\n",
    "\n",
    "print('Enter a string:')\n",
    "str1 = input()\n",
    "\n",
    "print('Enter a string:')\n",
    "str2 = input()\n",
    "\n",
    "def uncommonword(A,B):\n",
    "    count = {}\n",
    "    for word in A.split():\n",
    "        count[word] = count.get(word,0)+1\n",
    "    for word in B.split():\n",
    "        count[word] = count.get(word,0)+1\n",
    "    \n",
    "    return [word for word in count if count[word]==1]\n",
    "\n",
    "print('Uncommon Words are:')\n",
    "print(uncommonword(str1,str2))"
   ]
  },
  {
   "cell_type": "code",
   "execution_count": 6,
   "id": "e17c3560-302b-4e6a-a036-de75ccbcbe18",
   "metadata": {},
   "outputs": [
    {
     "name": "stdout",
     "output_type": "stream",
     "text": [
      "Enter a string:\n"
     ]
    },
    {
     "name": "stdin",
     "output_type": "stream",
     "text": [
      " life is good and healthy\n"
     ]
    },
    {
     "name": "stdout",
     "output_type": "stream",
     "text": [
      "Apperance of the char in string: {'l': 2, 'i': 2, 'f': 1, 'e': 2, ' ': 4, 's': 1, 'g': 1, 'o': 2, 'd': 2, 'a': 2, 'n': 1, 'h': 2, 't': 1, 'y': 1}\n",
      "l\n",
      "i\n",
      "e\n",
      " \n",
      "o\n",
      "d\n",
      "a\n",
      "h\n"
     ]
    }
   ],
   "source": [
    "## Write a Python to find all duplicate characters in string?\n",
    "\n",
    "print('Enter a string:')\n",
    "str1 = input()\n",
    "count = {}\n",
    "for char in str1:\n",
    "    count[char] = count.get(char,0)+1\n",
    "print('Apperance of the char in string:',count)   \n",
    "for word in count:\n",
    "    if count[word]>1:\n",
    "        print(word)"
   ]
  },
  {
   "cell_type": "code",
   "execution_count": 8,
   "id": "ec3d8e4d-a1bf-4522-9b09-27a91d1dc0b8",
   "metadata": {},
   "outputs": [
    {
     "name": "stdout",
     "output_type": "stream",
     "text": [
      "Enter a string:\n"
     ]
    },
    {
     "name": "stdin",
     "output_type": "stream",
     "text": [
      " Divyanshu mittal\n"
     ]
    },
    {
     "name": "stdout",
     "output_type": "stream",
     "text": [
      "String is accepted\n"
     ]
    }
   ],
   "source": [
    "## Write a Python Program to check if a string contains any special character?\n",
    "print('Enter a string:')\n",
    "str1 = input()\n",
    "\n",
    "c=0\n",
    "s='[@_!#$%^&*()<>?/\\|}{~:]'\n",
    "for i in range(len(str1)):\n",
    "    if str1[i] in s:\n",
    "        c += 1\n",
    "\n",
    "if c==0:\n",
    "    print('String is accepted')\n",
    "else:\n",
    "    print('String will not accepted')"
   ]
  },
  {
   "cell_type": "code",
   "execution_count": null,
   "id": "b646d828-beb1-4a4a-80ed-2c811651db7c",
   "metadata": {},
   "outputs": [],
   "source": []
  }
 ],
 "metadata": {
  "kernelspec": {
   "display_name": "Python 3 (ipykernel)",
   "language": "python",
   "name": "python3"
  },
  "language_info": {
   "codemirror_mode": {
    "name": "ipython",
    "version": 3
   },
   "file_extension": ".py",
   "mimetype": "text/x-python",
   "name": "python",
   "nbconvert_exporter": "python",
   "pygments_lexer": "ipython3",
   "version": "3.9.7"
  }
 },
 "nbformat": 4,
 "nbformat_minor": 5
}
