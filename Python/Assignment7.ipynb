{
 "cells": [
  {
   "cell_type": "code",
   "execution_count": 3,
   "id": "2dc34a7e-b0a9-4c73-8258-ca0c1b28ed24",
   "metadata": {},
   "outputs": [
    {
     "name": "stdout",
     "output_type": "stream",
     "text": [
      "Enter the length of the array:\n"
     ]
    },
    {
     "name": "stdin",
     "output_type": "stream",
     "text": [
      " 5\n"
     ]
    },
    {
     "name": "stdout",
     "output_type": "stream",
     "text": [
      "Enter the Number you want to store in array:\n"
     ]
    },
    {
     "name": "stdin",
     "output_type": "stream",
     "text": [
      " 12\n",
      " 45\n",
      " 67\n",
      " 92\n",
      " 100\n"
     ]
    },
    {
     "name": "stdout",
     "output_type": "stream",
     "text": [
      "Sum of the array is: 316\n"
     ]
    }
   ],
   "source": [
    "##### Write a Python Program to find sum of array?\n",
    "print('Enter the length of the array:')\n",
    "num = int(input())\n",
    "list1 = []\n",
    "total = 0\n",
    "print('Enter the Number you want to store in array:')\n",
    "for i in range(num):\n",
    "    number = int(input())\n",
    "    list1.append(number)\n",
    "    total = total + number\n",
    "print('Sum of the array is:',total)"
   ]
  },
  {
   "cell_type": "code",
   "execution_count": 7,
   "id": "c56e76c0-9492-4cef-b8b4-b9b018958de3",
   "metadata": {},
   "outputs": [
    {
     "name": "stdout",
     "output_type": "stream",
     "text": [
      "Enter the length of the array:\n"
     ]
    },
    {
     "name": "stdin",
     "output_type": "stream",
     "text": [
      " 12\n"
     ]
    },
    {
     "name": "stdout",
     "output_type": "stream",
     "text": [
      "Enter the Number you want to store in array:\n"
     ]
    },
    {
     "name": "stdin",
     "output_type": "stream",
     "text": [
      " 12\n",
      " 34\n",
      " 67\n",
      " 899999999\n",
      " 45\n",
      " 4\n",
      " 3\n",
      " 5\n",
      " 6\n",
      " 7\n",
      " 8\n",
      " 1\n"
     ]
    },
    {
     "name": "stdout",
     "output_type": "stream",
     "text": [
      "Maximum Number of the array is: 899999999\n"
     ]
    }
   ],
   "source": [
    "## Write a Python Program to find largest element in an array?\n",
    "print('Enter the length of the array:')\n",
    "num = int(input())\n",
    "list1 = []\n",
    "print('Enter the Number you want to store in array:')\n",
    "for i in range(num):\n",
    "    number = int(input())\n",
    "    list1.append(number)\n",
    "print('Maximum Number of the array is:',max(list1))"
   ]
  },
  {
   "cell_type": "code",
   "execution_count": 24,
   "id": "806ce25d-0cb0-440e-b0df-0ca3a32ea617",
   "metadata": {},
   "outputs": [
    {
     "name": "stdout",
     "output_type": "stream",
     "text": [
      "Enter the length of the array:\n"
     ]
    },
    {
     "name": "stdin",
     "output_type": "stream",
     "text": [
      " 5\n"
     ]
    },
    {
     "name": "stdout",
     "output_type": "stream",
     "text": [
      "Enter the Number you want to store in array:\n"
     ]
    },
    {
     "name": "stdin",
     "output_type": "stream",
     "text": [
      " 12\n",
      " 67\n",
      " 43\n",
      " 55\n",
      " 78\n"
     ]
    },
    {
     "name": "stdout",
     "output_type": "stream",
     "text": [
      "Array Before the rotation: [12, 67, 43, 55, 78]\n",
      "How many times you want to rotate:\n"
     ]
    },
    {
     "name": "stdin",
     "output_type": "stream",
     "text": [
      " 2\n"
     ]
    },
    {
     "name": "stdout",
     "output_type": "stream",
     "text": [
      "After the rotation array is: [43, 55, 78, 12, 67]\n"
     ]
    }
   ],
   "source": [
    "## Write a Python Program for array rotation?\n",
    "\n",
    "print('Enter the length of the array:')\n",
    "num = int(input())\n",
    "list1 = []\n",
    "print('Enter the Number you want to store in array:')\n",
    "for i in range(num):\n",
    "    number = int(input())\n",
    "    list1.append(number)\n",
    "\n",
    "print('Array Before the rotation:',list1)\n",
    "\n",
    "print('How many times you want to rotate:')\n",
    "rotation = int(input())\n",
    "\n",
    "for i in range(rotation):\n",
    "    list2 = list1.pop(0)\n",
    "    list1.append(list2)\n",
    "    \n",
    "print('After the rotation array is:',list1)"
   ]
  },
  {
   "cell_type": "code",
   "execution_count": 25,
   "id": "dd08e416-388d-4da5-8248-bb7f9dcce463",
   "metadata": {},
   "outputs": [
    {
     "name": "stdout",
     "output_type": "stream",
     "text": [
      "Enter the length of the array:\n"
     ]
    },
    {
     "name": "stdin",
     "output_type": "stream",
     "text": [
      " 5\n"
     ]
    },
    {
     "name": "stdout",
     "output_type": "stream",
     "text": [
      "Enter the Number you want to store in array:\n"
     ]
    },
    {
     "name": "stdin",
     "output_type": "stream",
     "text": [
      " 12\n",
      " 10\n",
      " 7\n",
      " 76\n",
      " 34\n"
     ]
    },
    {
     "name": "stdout",
     "output_type": "stream",
     "text": [
      "Array Before the Split: [12, 10, 7, 76, 34]\n",
      "How many element you want to split:\n"
     ]
    },
    {
     "name": "stdin",
     "output_type": "stream",
     "text": [
      " 3\n"
     ]
    },
    {
     "name": "stdout",
     "output_type": "stream",
     "text": [
      "After the split and addition of split part into the end of the array is: [76, 34, 12, 10, 7]\n"
     ]
    }
   ],
   "source": [
    "## Write a Python Program to Split the array and add the first part to the end?\n",
    "print('Enter the length of the array:')\n",
    "num = int(input())\n",
    "list1 = []\n",
    "print('Enter the Number you want to store in array:')\n",
    "for i in range(num):\n",
    "    number = int(input())\n",
    "    list1.append(number)\n",
    "\n",
    "print('Array Before the Split:',list1)\n",
    "\n",
    "print('How many element you want to split:')\n",
    "rotation = int(input())\n",
    "\n",
    "for i in range(rotation):\n",
    "    list2 = list1.pop(0)\n",
    "    list1.append(list2)\n",
    "    \n",
    "print('After the split and addition of split part into the end of the array is:',list1)"
   ]
  },
  {
   "cell_type": "code",
   "execution_count": 29,
   "id": "5291cd46-0e9e-4cc3-a69c-419c04605d9b",
   "metadata": {},
   "outputs": [
    {
     "name": "stdout",
     "output_type": "stream",
     "text": [
      "Enter the length of the array:\n"
     ]
    },
    {
     "name": "stdin",
     "output_type": "stream",
     "text": [
      " 4\n"
     ]
    },
    {
     "name": "stdout",
     "output_type": "stream",
     "text": [
      "Enter the Number you want to store in array:\n"
     ]
    },
    {
     "name": "stdin",
     "output_type": "stream",
     "text": [
      " 12\n",
      " 23\n",
      " 34\n",
      " 45\n"
     ]
    },
    {
     "name": "stdout",
     "output_type": "stream",
     "text": [
      "Result is: True\n",
      "None\n"
     ]
    }
   ],
   "source": [
    "### Write a Python Program to check if given array is Monotonic?\n",
    "print('Enter the length of the array:')\n",
    "num = int(input())\n",
    "list1 = []\n",
    "print('Enter the Number you want to store in array:')\n",
    "for i in range(num):\n",
    "    number = int(input())\n",
    "    list1.append(number)\n",
    "\n",
    "def monotonic(list1):\n",
    "    x,y = [],[]\n",
    "    x.extend(list1)\n",
    "    y.extend(list1)\n",
    "    x.sort()\n",
    "    y.sort(reverse = True)\n",
    "    \n",
    "    if (x==list1) or (y==list2):\n",
    "        print('Result is:',True)\n",
    "    else:\n",
    "        print('Result is:',False)\n",
    "\n",
    "print(monotonic(list1))"
   ]
  },
  {
   "cell_type": "code",
   "execution_count": null,
   "id": "c10d7e66-41dc-4e9f-ba5a-30c81ac01521",
   "metadata": {},
   "outputs": [],
   "source": []
  }
 ],
 "metadata": {
  "kernelspec": {
   "display_name": "Python 3 (ipykernel)",
   "language": "python",
   "name": "python3"
  },
  "language_info": {
   "codemirror_mode": {
    "name": "ipython",
    "version": 3
   },
   "file_extension": ".py",
   "mimetype": "text/x-python",
   "name": "python",
   "nbconvert_exporter": "python",
   "pygments_lexer": "ipython3",
   "version": "3.9.7"
  }
 },
 "nbformat": 4,
 "nbformat_minor": 5
}
