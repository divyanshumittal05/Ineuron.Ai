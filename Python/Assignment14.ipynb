{
 "cells": [
  {
   "cell_type": "code",
   "execution_count": 10,
   "id": "18f31559-12e9-4138-b568-bef9a5e53a74",
   "metadata": {},
   "outputs": [
    {
     "name": "stdout",
     "output_type": "stream",
     "text": [
      "Enter the upper bound(range from 0 to n):\n"
     ]
    },
    {
     "name": "stdin",
     "output_type": "stream",
     "text": [
      " 70\n"
     ]
    },
    {
     "name": "stdout",
     "output_type": "stream",
     "text": [
      "Number divisible by 7 are:\n",
      "0\n",
      "7\n",
      "14\n",
      "21\n",
      "28\n",
      "35\n",
      "42\n",
      "49\n",
      "56\n",
      "63\n",
      "70\n"
     ]
    }
   ],
   "source": [
    "## Define a class with a generator which can iterate the numbers, which are divisible by 7, between a given range 0 and n.\n",
    "\n",
    "print('Enter the upper bound(range from 0 to n):')\n",
    "N = int(input())\n",
    "\n",
    "def div(n):\n",
    "    print('Number divisible by 7 are:')\n",
    "    for i in range(n+1):\n",
    "        if i%7==0:\n",
    "            print(i)\n",
    "            \n",
    "div(N) "
   ]
  },
  {
   "cell_type": "code",
   "execution_count": 4,
   "id": "d43a995c-81ea-404e-af92-6169fc5c7207",
   "metadata": {},
   "outputs": [
    {
     "name": "stdin",
     "output_type": "stream",
     "text": [
      "Enter Text: divyanshu mittal diya mittal \n"
     ]
    },
    {
     "name": "stdout",
     "output_type": "stream",
     "text": [
      "Frequency of Words and digits:\n",
      "divyanshu 1\n",
      "diya 1\n",
      "mittal 2\n",
      "Enter a string:\n"
     ]
    },
    {
     "name": "stdin",
     "output_type": "stream",
     "text": [
      " divyanshu mittal\n"
     ]
    },
    {
     "name": "stdout",
     "output_type": "stream",
     "text": [
      "Frequency of Character and digits:\n",
      "m 1\n",
      "n 1\n",
      "u 1\n",
      "v 1\n",
      "i 2\n",
      "t 2\n",
      "l 1\n",
      "a 2\n",
      "y 1\n",
      "s 1\n",
      "  1\n",
      "d 1\n",
      "h 1\n"
     ]
    }
   ],
   "source": [
    "## Write a program to compute the frequency of the words from the input. The output should output after sorting the key alphanumerically.\n",
    "\n",
    "## 1st way\n",
    "\n",
    "freq = {}\n",
    "text = input('Enter Text:')\n",
    "\n",
    "for word in text.split():\n",
    "    freq[word] = freq.get(word,0) + 1\n",
    "    \n",
    "words = list(freq.keys())\n",
    "words.sort()\n",
    "\n",
    "print('Frequency of Words and digits:')\n",
    "for w in words:\n",
    "    print(w,freq[w])\n",
    "    \n",
    "\n",
    "## 2nd way\n",
    "\n",
    "print('Enter a string:')\n",
    "str1 = input()\n",
    "set1 = set(str1)\n",
    "list1 = list(set1)\n",
    "print('Frequency of Character and digits:')\n",
    "for i in range(len(list1)):\n",
    "    count = str1.count(list1[i])\n",
    "    print(list1[i],count)"
   ]
  },
  {
   "cell_type": "code",
   "execution_count": 19,
   "id": "4a9e93f4-778d-4b8f-a5d2-4d6ee0a30a91",
   "metadata": {},
   "outputs": [
    {
     "name": "stdout",
     "output_type": "stream",
     "text": [
      "Female\n",
      "Male\n"
     ]
    }
   ],
   "source": [
    "## 3. Define a class Person and its two child classes: Male and Female. All classes have a method \"getGender\" which can print \"Male\" for Male class and \"Female\" for Female class.\n",
    "class Person(object):\n",
    "    def __init__(self):\n",
    "        self.gender = \"unknown\"\n",
    "\n",
    "    def getGender(self):\n",
    "        print(self.gender)\n",
    "\n",
    "class Male(Person):\n",
    "    def __init__(self):\n",
    "        self.gender = \"Male\"\n",
    "\n",
    "class Female(Person):\n",
    "    def __init__(self):\n",
    "        self.gender = \"Female\"\n",
    "\n",
    "sharon = Female()\n",
    "doug = Male()\n",
    "sharon.getGender()\n",
    "doug.getGender()"
   ]
  },
  {
   "cell_type": "code",
   "execution_count": 7,
   "id": "c5a61fc6-586a-44a6-9cba-252f5551f94f",
   "metadata": {},
   "outputs": [
    {
     "name": "stdout",
     "output_type": "stream",
     "text": [
      "I Play Football\n",
      "I Play Hockey\n",
      "I Love Football\n",
      "I Love Hockey\n",
      "You Play Football\n",
      "You Play Hockey\n",
      "You Love Football\n",
      "You Love Hockey\n"
     ]
    }
   ],
   "source": [
    "## Please write a program to generate all sentences where subject is in [\"I\", \"You\"] and verb is in ['Play', \"Love\"] and the object is in [\"Hockey\",\"Football\"].\n",
    "\n",
    "sub = ['I','You']\n",
    "verb = ['Play','Love']\n",
    "obj = ['Football','Hockey']\n",
    "\n",
    "for i in sub:\n",
    "    for j in verb:\n",
    "        for k in obj:\n",
    "            print(i,j,k)"
   ]
  },
  {
   "cell_type": "code",
   "execution_count": 12,
   "id": "59469bb8-2d21-4f97-b502-636f44be62ef",
   "metadata": {},
   "outputs": [
    {
     "name": "stdout",
     "output_type": "stream",
     "text": [
      "b'x\\x9c\\xcbH\\xcd\\xc9\\xc9W(\\xcf/\\xcaIQ\\xcc \\x82\\r\\x00\\xbd[\\x11\\xf5'\n",
      "b'hello world!hello world!hello world!hello world!'\n"
     ]
    }
   ],
   "source": [
    "## Please write a program to compress and decompress the string \"hello world!hello world!hello world!hello world!\"\n",
    "\n",
    "import zlib\n",
    "s = 'hello world!hello world!hello world!hello world!'\n",
    "y = bytes(s, 'utf-8')\n",
    "x = zlib.compress(y)\n",
    "print(x)      ##in python zlib() compresses accepyts only bytes data types\n",
    "print(zlib.decompress(x))"
   ]
  },
  {
   "cell_type": "code",
   "execution_count": 14,
   "id": "fec11542-d2e7-40a6-9694-d4068fd326a2",
   "metadata": {},
   "outputs": [
    {
     "name": "stdout",
     "output_type": "stream",
     "text": [
      "Enter How Many Numer You Want To Enter:\n"
     ]
    },
    {
     "name": "stdin",
     "output_type": "stream",
     "text": [
      " 4\n"
     ]
    },
    {
     "name": "stdout",
     "output_type": "stream",
     "text": [
      "Enter A Number:\n"
     ]
    },
    {
     "name": "stdin",
     "output_type": "stream",
     "text": [
      " 12\n",
      " 45\n",
      " 67\n",
      " 89\n"
     ]
    },
    {
     "name": "stdout",
     "output_type": "stream",
     "text": [
      "You Enter Successfully Element In List !!\n",
      "List is sorted !!\n",
      "Enter a element you want to find:\n"
     ]
    },
    {
     "name": "stdin",
     "output_type": "stream",
     "text": [
      " 45\n"
     ]
    },
    {
     "name": "stdout",
     "output_type": "stream",
     "text": [
      "Index is: 1\n"
     ]
    }
   ],
   "source": [
    "## Please write a binary search function which searches an item in a sorted list. The function should return the index of element to be searched in the list.\n",
    "\n",
    "print('Enter How Many Numer You Want To Enter:')\n",
    "num = int(input())\n",
    "list1 = []\n",
    "print('Enter A Number:')\n",
    "for i in range(num):\n",
    "    number = int(input())\n",
    "    list1.append(number)\n",
    "print('You Enter Successfully Element In List !!')\n",
    "list1.sort()\n",
    "print('List is sorted !!')\n",
    "\n",
    "print('Enter a element you want to find:')\n",
    "ele = int(input())\n",
    "print('Index is:',list1.index(ele))"
   ]
  },
  {
   "cell_type": "code",
   "execution_count": null,
   "id": "495f13c5-b35e-44d8-95e0-fb6cc80f0bee",
   "metadata": {},
   "outputs": [],
   "source": []
  }
 ],
 "metadata": {
  "kernelspec": {
   "display_name": "Python 3 (ipykernel)",
   "language": "python",
   "name": "python3"
  },
  "language_info": {
   "codemirror_mode": {
    "name": "ipython",
    "version": 3
   },
   "file_extension": ".py",
   "mimetype": "text/x-python",
   "name": "python",
   "nbconvert_exporter": "python",
   "pygments_lexer": "ipython3",
   "version": "3.9.7"
  }
 },
 "nbformat": 4,
 "nbformat_minor": 5
}
