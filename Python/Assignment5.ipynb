{
 "cells": [
  {
   "cell_type": "code",
   "execution_count": 1,
   "id": "c7e5cf44-24e7-49bc-90b7-7671988bb948",
   "metadata": {},
   "outputs": [
    {
     "name": "stdin",
     "output_type": "stream",
     "text": [
      "Enter a number: 25\n",
      "Enter a number: 12\n"
     ]
    },
    {
     "data": {
      "text/plain": [
       "300"
      ]
     },
     "execution_count": 1,
     "metadata": {},
     "output_type": "execute_result"
    }
   ],
   "source": [
    "## Write a Python Program to Find LCM?\n",
    "\n",
    "def lcm(x,y):\n",
    "    if x>y:\n",
    "        greater = x\n",
    "    else:\n",
    "        greater = y\n",
    "   \n",
    "    while(True):\n",
    "        if (greater%x == 0) and (greater % y == 0):\n",
    "            lcm = greater\n",
    "            break\n",
    "        greater +=1\n",
    "    return lcm\n",
    "\n",
    "num1 = int(input('Enter a number:'))\n",
    "num2 = int(input('Enter a number:'))\n",
    "\n",
    "lcm(num1,num2)"
   ]
  },
  {
   "cell_type": "code",
   "execution_count": 2,
   "id": "8f2b18d1-1a07-44a5-b839-e410db418494",
   "metadata": {},
   "outputs": [
    {
     "name": "stdin",
     "output_type": "stream",
     "text": [
      "Enter a number: 12\n",
      "Enter a number: 17\n"
     ]
    },
    {
     "data": {
      "text/plain": [
       "1"
      ]
     },
     "execution_count": 2,
     "metadata": {},
     "output_type": "execute_result"
    }
   ],
   "source": [
    "## Write a Python Program to Find HCF?\n",
    "\n",
    "def hcf(x,y):\n",
    "    if x>y:\n",
    "        smaller = y\n",
    "    else:\n",
    "        smaller = x\n",
    "    \n",
    "    for i in range(1,smaller+1):\n",
    "        if(x%i==0) and (y%i==0):\n",
    "            hcf = i\n",
    "    return hcf\n",
    "\n",
    "num1 = int(input('Enter a number:'))\n",
    "num2 = int(input('Enter a number:'))\n",
    "\n",
    "hcf(num1,num2)"
   ]
  },
  {
   "cell_type": "code",
   "execution_count": 49,
   "id": "a0ddb631-de43-4d62-b5fe-72bc11b24655",
   "metadata": {},
   "outputs": [],
   "source": [
    "## Write a Python Program to Convert Decimal to Binary, Octal and Hexadecimal?\n",
    "\n",
    "## Decimal to Binary -- 0\n",
    "from functools import reduce\n",
    "remainder = []\n",
    "def DB(x):\n",
    "    while(x>0):\n",
    "        rem = x%2\n",
    "        division = x//2\n",
    "        x = division\n",
    "        remainder.append(rem)\n",
    "    remainder.reverse()\n",
    "    binary_output = reduce(lambda x,y:str(x)+str(y),remainder)\n",
    "    return binary_output\n",
    "\n",
    "## Decimal To Binary -- 1\n",
    "def DecimalToBinary(num):\n",
    "     \n",
    "    if num >= 1:\n",
    "        DecimalToBinary(num // 2)\n",
    "    print(num % 2, end = '')\n",
    "    \n",
    " ## Decimal to Binary -- 2\n",
    "def Dec_to_Bin(num):\n",
    "    return bin(num).replace('0b','')"
   ]
  },
  {
   "cell_type": "code",
   "execution_count": 51,
   "id": "1eea012b-c135-4e6b-a29b-1fae71f91965",
   "metadata": {},
   "outputs": [
    {
     "data": {
      "text/plain": [
       "'1101'"
      ]
     },
     "execution_count": 51,
     "metadata": {},
     "output_type": "execute_result"
    }
   ],
   "source": [
    "DB(13)"
   ]
  },
  {
   "cell_type": "code",
   "execution_count": 31,
   "id": "c1baf7df-4701-422b-995e-63886c1cfaae",
   "metadata": {},
   "outputs": [
    {
     "name": "stdout",
     "output_type": "stream",
     "text": [
      "01010"
     ]
    }
   ],
   "source": [
    "DecimalToBinary(10)"
   ]
  },
  {
   "cell_type": "code",
   "execution_count": 32,
   "id": "f662496d-ea53-4740-be0c-402b87fdb06a",
   "metadata": {},
   "outputs": [
    {
     "data": {
      "text/plain": [
       "'1010'"
      ]
     },
     "execution_count": 32,
     "metadata": {},
     "output_type": "execute_result"
    }
   ],
   "source": [
    "Dec_to_Bin(10)"
   ]
  },
  {
   "cell_type": "code",
   "execution_count": 67,
   "id": "69dc74af-403f-4e8a-a869-7825443ddb0a",
   "metadata": {},
   "outputs": [],
   "source": [
    "## Octal to Hexadecimal\n",
    "digit = []\n",
    "def OH(x):\n",
    "    while x>0:\n",
    "        ldigit = x%10\n",
    "        num = x//10\n",
    "        x = num\n",
    "        digit.append(ldigit)\n",
    "    \n",
    "    DecNum = 0\n",
    "    for i in range(len(digit)):\n",
    "        DecNum = DecNum + digit[i]*pow(8,i)\n",
    "    print('Decimal Number is:',DecNum)\n",
    "    \n",
    "    while DecNum>0:\n",
    "        rem = DecNum%16\n",
    "        division = DecNum//16\n",
    "        DecNum = division\n",
    "        if rem <9:\n",
    "            print(rem)\n",
    "        else:\n",
    "            if rem == 10:\n",
    "                print('A')\n",
    "            elif rem == 11:\n",
    "                print('B')\n",
    "            elif rem == 12:\n",
    "                print('C')\n",
    "            elif rem == 13:\n",
    "                print('D')\n",
    "            elif rem == 14:\n",
    "                print('E')\n",
    "            else:\n",
    "                print('F')"
   ]
  },
  {
   "cell_type": "code",
   "execution_count": 68,
   "id": "b87f9c5c-4bb5-42f1-ac3a-fd5137adecd3",
   "metadata": {},
   "outputs": [
    {
     "name": "stdout",
     "output_type": "stream",
     "text": [
      "Decimal Number is: 490\n",
      "A\n",
      "E\n",
      "1\n"
     ]
    }
   ],
   "source": [
    "OH(752)"
   ]
  },
  {
   "cell_type": "code",
   "execution_count": 73,
   "id": "8115907d-a20f-49e4-aa3d-d57acdee698a",
   "metadata": {},
   "outputs": [
    {
     "name": "stdout",
     "output_type": "stream",
     "text": [
      "Enter a string:\n"
     ]
    },
    {
     "name": "stdin",
     "output_type": "stream",
     "text": [
      " JavaPoint#$%\n"
     ]
    },
    {
     "name": "stdout",
     "output_type": "stream",
     "text": [
      "J -- 74\n",
      "a -- 97\n",
      "v -- 118\n",
      "a -- 97\n",
      "P -- 80\n",
      "o -- 111\n",
      "i -- 105\n",
      "n -- 110\n",
      "t -- 116\n",
      "# -- 35\n",
      "$ -- 36\n",
      "% -- 37\n"
     ]
    }
   ],
   "source": [
    "## Write a Python Program To Find ASCII value of a character?\n",
    "print('Enter a string:')\n",
    "string = input()\n",
    "for k in string:\n",
    "    Ascii = ord(k)\n",
    "    print(k,'--',Ascii)"
   ]
  },
  {
   "cell_type": "code",
   "execution_count": 78,
   "id": "a807ac51-35fc-4546-81ec-70f642fb39bb",
   "metadata": {},
   "outputs": [
    {
     "name": "stdin",
     "output_type": "stream",
     "text": [
      "Enter A number: 12\n",
      "Enter A number: 34\n"
     ]
    },
    {
     "name": "stdout",
     "output_type": "stream",
     "text": [
      "Enter a sign to perform any computation(+,-,*,/):\n"
     ]
    },
    {
     "name": "stdin",
     "output_type": "stream",
     "text": [
      " *\n"
     ]
    },
    {
     "name": "stdout",
     "output_type": "stream",
     "text": [
      "Multiplication is: 408\n"
     ]
    }
   ],
   "source": [
    "## Write a Python Program to Make a Simple Calculator with 4 basic mathematical operations?\n",
    "\n",
    "Num1 = eval(input('Enter A number:'))\n",
    "Num2 = eval(input('Enter A number:'))\n",
    "\n",
    "## Arithmetic Operations\n",
    "\n",
    "print('Enter a sign to perform any computation(+,-,*,/):')\n",
    "operator = input()\n",
    "\n",
    "if operator == '+':\n",
    "    print('Sum is:',Num1+Num2)\n",
    "elif operator == '-':\n",
    "    print('Substraction is:',Num1 - Num2)\n",
    "elif operator == '*':\n",
    "    print('Multiplication is:', Num1 * Num2)\n",
    "elif operator == '/':\n",
    "    print('Division is:',Num1/Num2)\n",
    "else:\n",
    "    print('You Enter A Wrong Sign, Please Enter Correct One')"
   ]
  },
  {
   "cell_type": "code",
   "execution_count": null,
   "id": "bb66ca4a-9f37-461a-bbfd-a2d7e1d9990b",
   "metadata": {},
   "outputs": [],
   "source": []
  }
 ],
 "metadata": {
  "kernelspec": {
   "display_name": "Python 3 (ipykernel)",
   "language": "python",
   "name": "python3"
  },
  "language_info": {
   "codemirror_mode": {
    "name": "ipython",
    "version": 3
   },
   "file_extension": ".py",
   "mimetype": "text/x-python",
   "name": "python",
   "nbconvert_exporter": "python",
   "pygments_lexer": "ipython3",
   "version": "3.9.7"
  }
 },
 "nbformat": 4,
 "nbformat_minor": 5
}
