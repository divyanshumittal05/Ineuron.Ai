{
 "cells": [
  {
   "cell_type": "code",
   "execution_count": 1,
   "id": "ae23efc3-858a-4d99-b2fc-152f524f3f46",
   "metadata": {},
   "outputs": [
    {
     "name": "stdin",
     "output_type": "stream",
     "text": [
      "Enter The Distance(in Km): 5\n"
     ]
    },
    {
     "name": "stdout",
     "output_type": "stream",
     "text": [
      "Distance (in Miles): 3.105\n"
     ]
    }
   ],
   "source": [
    "## Write a Python program to convert kilometers to miles?\n",
    "\n",
    "num1 = eval(input('Enter The Distance(in Km):'))\n",
    "\n",
    "## Conversion from Km to Miles :: 1Km = 0.621\n",
    "Miles = 0.621*num1\n",
    "print('Distance (in Miles):',Miles)"
   ]
  },
  {
   "cell_type": "code",
   "execution_count": 2,
   "id": "0fb92e59-2adb-46ae-85d0-ba9383973d39",
   "metadata": {},
   "outputs": [
    {
     "name": "stdin",
     "output_type": "stream",
     "text": [
      "Enter The Temprature(in Celsius): 0\n"
     ]
    },
    {
     "name": "stdout",
     "output_type": "stream",
     "text": [
      "Temprature (in Fahrenheit): 32.0\n"
     ]
    }
   ],
   "source": [
    "## Write a Python program to convert Celsius to Fahrenheit?\n",
    "\n",
    "Celsius = eval(input('Enter The Temprature(in Celsius):'))\n",
    "Fahrenheit = (Celsius * 9/5) + 32\n",
    "\n",
    "print('Temprature (in Fahrenheit):',Fahrenheit)"
   ]
  },
  {
   "cell_type": "code",
   "execution_count": 5,
   "id": "9777a888-5552-48af-9a23-db0e8f20ff7d",
   "metadata": {},
   "outputs": [
    {
     "name": "stdin",
     "output_type": "stream",
     "text": [
      "Enter The Year: 2014\n",
      "Enter The Month: 12\n"
     ]
    },
    {
     "name": "stdout",
     "output_type": "stream",
     "text": [
      "   December 2014\n",
      "Mo Tu We Th Fr Sa Su\n",
      " 1  2  3  4  5  6  7\n",
      " 8  9 10 11 12 13 14\n",
      "15 16 17 18 19 20 21\n",
      "22 23 24 25 26 27 28\n",
      "29 30 31\n",
      "\n"
     ]
    }
   ],
   "source": [
    "## Write a Python program to display calendar?\n",
    "\n",
    "import calendar\n",
    "\n",
    "yy = int(input('Enter The Year:'))\n",
    "mm = int(input('Enter The Month:'))\n",
    "\n",
    "print(calendar.month(yy,mm))"
   ]
  },
  {
   "cell_type": "code",
   "execution_count": 9,
   "id": "ccf5375e-2427-4c09-9f46-bdacd5c224b3",
   "metadata": {},
   "outputs": [
    {
     "name": "stdin",
     "output_type": "stream",
     "text": [
      "Enter the x**2 Cofficient: 1\n",
      "Enter the x Cofficient: 5\n",
      "Enter the Constant Value: 6\n"
     ]
    },
    {
     "name": "stdout",
     "output_type": "stream",
     "text": [
      "The Solution of Quradic Equation is(Root Value): (-2+0j) , (-3+0j)\n"
     ]
    }
   ],
   "source": [
    "## Write a Python program to solve quadratic equation?\n",
    "\n",
    "import cmath\n",
    "\n",
    "## Standard From of Quardic Equation : ax**2 + bx + c = 0\n",
    "\n",
    "a = int(input('Enter the x**2 Cofficient:'))\n",
    "b = int(input('Enter the x Cofficient:'))\n",
    "c = int(input('Enter the Constant Value:'))\n",
    "\n",
    "d = (b**2) - (4*a*c)\n",
    "sol1 = ((-b + cmath.sqrt(d)) / (2*a))\n",
    "sol2 = ((-b - cmath.sqrt(d)) / (2*a))\n",
    "\n",
    "print('The Solution of Quradic Equation is(Root Value):',sol1,',',sol2)"
   ]
  },
  {
   "cell_type": "code",
   "execution_count": 10,
   "id": "0993c7b2-33bb-424a-9e4c-93d8915ee6c1",
   "metadata": {},
   "outputs": [
    {
     "name": "stdin",
     "output_type": "stream",
     "text": [
      "Enter The First Number: 23\n",
      "Enter The Second Number: 12\n"
     ]
    },
    {
     "name": "stdout",
     "output_type": "stream",
     "text": [
      "Before The Swapping: 23   12\n",
      "After The Swapping: 12   23\n"
     ]
    }
   ],
   "source": [
    "## Write a Python program to swap two variables without temp variable?\n",
    "\n",
    "Num1 = eval(input('Enter The First Number:'))\n",
    "Num2 = eval(input('Enter The Second Number:'))\n",
    "\n",
    "print('Before The Swapping:',Num1,' ',Num2)\n",
    "\n",
    "Num1,Num2 = Num2,Num1\n",
    "\n",
    "print('After The Swapping:',Num1,' ',Num2)"
   ]
  },
  {
   "cell_type": "code",
   "execution_count": null,
   "id": "80c6cf3a-e4ab-489e-9512-760dc2ebf74d",
   "metadata": {},
   "outputs": [],
   "source": []
  }
 ],
 "metadata": {
  "kernelspec": {
   "display_name": "Python 3 (ipykernel)",
   "language": "python",
   "name": "python3"
  },
  "language_info": {
   "codemirror_mode": {
    "name": "ipython",
    "version": 3
   },
   "file_extension": ".py",
   "mimetype": "text/x-python",
   "name": "python",
   "nbconvert_exporter": "python",
   "pygments_lexer": "ipython3",
   "version": "3.9.7"
  }
 },
 "nbformat": 4,
 "nbformat_minor": 5
}
