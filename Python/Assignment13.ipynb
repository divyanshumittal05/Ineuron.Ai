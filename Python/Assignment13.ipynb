{
 "cells": [
  {
   "cell_type": "raw",
   "id": "f8c7ffbb-b960-4dbf-a7c3-3da9071e835b",
   "metadata": {},
   "source": [
    "/*\n",
    "Write a program that calculates and prints the value according to the given formula:\n",
    "Q = Square root of [(2 C D)/H]\n",
    "\n",
    "Following are the fixed values of C and H:\n",
    "\n",
    "C is 50. H is 30.\n",
    "\n",
    "D is the variable whose values should be input to your program in a comma-separated sequence.\n",
    "\n",
    "Example\n",
    "\n",
    "Let us assume the following comma separated input sequence is given to the program:\n",
    "\n",
    "100,150,180\n",
    "\n",
    "The output of the program should be:\n",
    "\n",
    "18,22,24\n",
    "*/"
   ]
  },
  {
   "cell_type": "code",
   "execution_count": 3,
   "id": "ce315786-5ecc-453b-a110-b5507c0aff75",
   "metadata": {},
   "outputs": [
    {
     "name": "stdout",
     "output_type": "stream",
     "text": [
      "Enter the range (How Many Number You want to Enter):\n"
     ]
    },
    {
     "name": "stdin",
     "output_type": "stream",
     "text": [
      " 3\n"
     ]
    },
    {
     "name": "stdout",
     "output_type": "stream",
     "text": [
      "Enter The Values:\n"
     ]
    },
    {
     "name": "stdin",
     "output_type": "stream",
     "text": [
      " 100\n"
     ]
    },
    {
     "name": "stdout",
     "output_type": "stream",
     "text": [
      "Enter The Values:\n"
     ]
    },
    {
     "name": "stdin",
     "output_type": "stream",
     "text": [
      " 150\n"
     ]
    },
    {
     "name": "stdout",
     "output_type": "stream",
     "text": [
      "Enter The Values:\n"
     ]
    },
    {
     "name": "stdin",
     "output_type": "stream",
     "text": [
      " 180\n"
     ]
    },
    {
     "name": "stdout",
     "output_type": "stream",
     "text": [
      "Enter Number are: [100, 150, 180]\n",
      "Ouput for 100 is: 18\n",
      "Ouput for 150 is: 22\n",
      "Ouput for 180 is: 24\n"
     ]
    }
   ],
   "source": [
    "import math\n",
    "print('Enter the range (How Many Number You want to Enter):')\n",
    "Num = int(input())\n",
    "D = []\n",
    "for i in range(Num):\n",
    "    print('Enter The Values:')\n",
    "    N = int(input())\n",
    "    D.append(N)\n",
    "print('Enter Number are:',D)\n",
    "\n",
    "C = 50\n",
    "H = 30\n",
    "\n",
    "for i in range(Num):\n",
    "    Q = round(math.sqrt((2*C*D[i])/H))\n",
    "    print('Ouput for',D[i],'is:',Q)"
   ]
  },
  {
   "cell_type": "raw",
   "id": "ccce5fa1-be05-46fa-92d7-ee6811cb71b0",
   "metadata": {},
   "source": [
    "/*\n",
    "Write a program which takes 2 digits, X,Y as input and generates a\n",
    "2-dimensional array. The element value in the i-th row and j-th column \n",
    "of the array should be i*j.\n",
    "*/"
   ]
  },
  {
   "cell_type": "code",
   "execution_count": 8,
   "id": "1cfddae9-ca45-4b89-bea5-648c4f63884b",
   "metadata": {},
   "outputs": [
    {
     "name": "stdout",
     "output_type": "stream",
     "text": [
      "Enter No. Of Rows(ith):\n"
     ]
    },
    {
     "name": "stdin",
     "output_type": "stream",
     "text": [
      " 3\n"
     ]
    },
    {
     "name": "stdout",
     "output_type": "stream",
     "text": [
      "Enter No. Of Columns(jth):\n"
     ]
    },
    {
     "name": "stdin",
     "output_type": "stream",
     "text": [
      " 3\n"
     ]
    },
    {
     "name": "stdout",
     "output_type": "stream",
     "text": [
      "Array is:\n",
      " [[1 2 3]\n",
      " [2 4 6]\n",
      " [3 6 9]]\n"
     ]
    }
   ],
   "source": [
    "import numpy as np\n",
    "print('Enter No. Of Rows(ith):')\n",
    "Rows = int(input())\n",
    "print('Enter No. Of Columns(jth):')\n",
    "Cols = int(input())\n",
    "list1 = []\n",
    "\n",
    "for i in range(1,Rows+1):\n",
    "    for j in range(1,Cols+1):\n",
    "        list1.append(i*j)\n",
    "\n",
    "print('Array is:\\n',np.array(list1).reshape(Rows,Cols))"
   ]
  },
  {
   "cell_type": "raw",
   "id": "cc492b13-54f5-4711-beb6-f5c2891f7219",
   "metadata": {},
   "source": [
    "/*\n",
    "Write a program that accepts a comma separated sequence of words as input\n",
    "and prints the words in a comma-separated sequence after sorting them alphabetically.\n",
    "*/"
   ]
  },
  {
   "cell_type": "code",
   "execution_count": 27,
   "id": "55a6e77d-d810-4d5a-b995-e6e0ffcb2c23",
   "metadata": {},
   "outputs": [
    {
     "name": "stdout",
     "output_type": "stream",
     "text": [
      "Enter Comma Separated Words:\n"
     ]
    },
    {
     "name": "stdin",
     "output_type": "stream",
     "text": [
      " Hello,Divya,Diya,Divit\n"
     ]
    },
    {
     "name": "stdout",
     "output_type": "stream",
     "text": [
      "After Sorting the string is:\n",
      "Divit,Divya,Diya,Hello\n"
     ]
    }
   ],
   "source": [
    "print('Enter Comma Separated Words:')\n",
    "words = input()\n",
    "print('After Sorting the string is:')\n",
    "words_list = words.split(',')\n",
    "words_list.sort()\n",
    "print(','.join(words_list))"
   ]
  },
  {
   "cell_type": "raw",
   "id": "2b396a4f-d0f2-4bd4-bce6-78e83e72ad95",
   "metadata": {},
   "source": [
    "/*\n",
    "Write a program that accepts a sequence of whitespace separated words as input and \n",
    "prints the words after removing all duplicate words and sorting them alphanumerically.\n",
    "*/"
   ]
  },
  {
   "cell_type": "code",
   "execution_count": 25,
   "id": "1e5844cb-06dc-496a-bb88-7f6af864af81",
   "metadata": {},
   "outputs": [
    {
     "name": "stdout",
     "output_type": "stream",
     "text": [
      "Enter a str (whitespace seperated):\n"
     ]
    },
    {
     "name": "stdin",
     "output_type": "stream",
     "text": [
      " Heelo Diyvya Heelo\n"
     ]
    },
    {
     "name": "stdout",
     "output_type": "stream",
     "text": [
      "After Sorting the string And Removing the duplicates is:\n",
      "Diyvya Heelo\n"
     ]
    }
   ],
   "source": [
    "print('Enter a str (whitespace seperated):')\n",
    "str1 = input()\n",
    "print('After Sorting the string And Removing the duplicates is:')\n",
    "str_list = str1.split(' ')\n",
    "set1 = set(str_list)\n",
    "str_new_list = list(set1)\n",
    "str_new_list.sort()\n",
    "print(' '.join(str_new_list))"
   ]
  },
  {
   "cell_type": "raw",
   "id": "7a925f00-14ef-4eda-8cd8-d9332fc64716",
   "metadata": {},
   "source": [
    "/*\n",
    "Write a program that accepts a sentence and calculate the number of letters and digits.\n",
    "*/"
   ]
  },
  {
   "cell_type": "code",
   "execution_count": 39,
   "id": "1294cb2c-12cc-4f59-a0d5-ac8aca0894da",
   "metadata": {},
   "outputs": [
    {
     "name": "stdin",
     "output_type": "stream",
     "text": [
      "Input a string Divanshu 2002\n"
     ]
    },
    {
     "name": "stdout",
     "output_type": "stream",
     "text": [
      "Letters 8\n",
      "Digits 4\n"
     ]
    }
   ],
   "source": [
    "s = input(\"Input a string\")\n",
    "d=l=0\n",
    "for c in s:\n",
    "    if c.isdigit():\n",
    "        d=d+1\n",
    "    elif c.isalpha():\n",
    "        l=l+1\n",
    "    else:\n",
    "        pass\n",
    "print(\"Letters\", l)\n",
    "print(\"Digits\", d)"
   ]
  },
  {
   "cell_type": "code",
   "execution_count": 38,
   "id": "0c0120fc-4213-4ef1-a3f6-02accab3c6cb",
   "metadata": {},
   "outputs": [
    {
     "name": "stdout",
     "output_type": "stream",
     "text": [
      "Enter a String (which can contain both alphabates and numbers):\n"
     ]
    },
    {
     "name": "stdin",
     "output_type": "stream",
     "text": [
      " Divya 2002\\\n"
     ]
    },
    {
     "name": "stdout",
     "output_type": "stream",
     "text": [
      "Total Number of characters are(Counting Space and Special Character): 7\n",
      "Total Number of digits are: 4\n"
     ]
    }
   ],
   "source": [
    "print('Enter a String (which can contain both alphabates and numbers):')\n",
    "str1 = input()\n",
    "list_str = list(str1)\n",
    "\n",
    "count_alpha = 0\n",
    "count_digit = 0\n",
    "str_digit = '0123456789'\n",
    "list_digit = list(str_digit)\n",
    "\n",
    "for i in range(len(list_str)):\n",
    "    if list_str[i] not in list_digit:\n",
    "        count_alpha += 1\n",
    "        \n",
    "    else:\n",
    "        count_digit +=1\n",
    "        \n",
    "\n",
    "print('Total Number of characters are(Counting Space and Special Character):',count_alpha)\n",
    "print('Total Number of digits are:',count_digit)"
   ]
  },
  {
   "cell_type": "raw",
   "id": "7447744e-b483-4a63-95f8-57276f1ecf33",
   "metadata": {},
   "source": [
    "/*\n",
    "A website requires the users to input username and password to register.\n",
    "Write a program to check the validity of password input by users.\n",
    "*/"
   ]
  },
  {
   "cell_type": "code",
   "execution_count": 40,
   "id": "b57a08a5-153d-4a20-9001-cf817d9f04e2",
   "metadata": {},
   "outputs": [
    {
     "name": "stdin",
     "output_type": "stream",
     "text": [
      "Set User Name: divya\n",
      "Set Password: 123@\n"
     ]
    },
    {
     "name": "stdout",
     "output_type": "stream",
     "text": [
      "You successfully set your username and password!!\n",
      "Please Enter Your Username:\n"
     ]
    },
    {
     "name": "stdin",
     "output_type": "stream",
     "text": [
      " divya\n"
     ]
    },
    {
     "name": "stdout",
     "output_type": "stream",
     "text": [
      "Please Enter Your Password:\n"
     ]
    },
    {
     "name": "stdin",
     "output_type": "stream",
     "text": [
      " 123@\n"
     ]
    },
    {
     "name": "stdout",
     "output_type": "stream",
     "text": [
      "You Enter Successfully 👍!!\n"
     ]
    }
   ],
   "source": [
    "Username = input('Set User Name:')\n",
    "Password = input('Set Password:')\n",
    "\n",
    "print('You successfully set your username and password!!')\n",
    "\n",
    "print('Please Enter Your Username:')\n",
    "User = input()\n",
    "print('Please Enter Your Password:')\n",
    "Pass = input()\n",
    "\n",
    "if Username == User and Password == Pass:\n",
    "    print('You Enter Successfully 👍!!')\n",
    "else:\n",
    "    print('Please try again🙄')\n"
   ]
  },
  {
   "cell_type": "code",
   "execution_count": null,
   "id": "f17d7449-a88c-44a2-a4c6-b1eb550b5bc4",
   "metadata": {},
   "outputs": [],
   "source": []
  }
 ],
 "metadata": {
  "kernelspec": {
   "display_name": "Python 3 (ipykernel)",
   "language": "python",
   "name": "python3"
  },
  "language_info": {
   "codemirror_mode": {
    "name": "ipython",
    "version": 3
   },
   "file_extension": ".py",
   "mimetype": "text/x-python",
   "name": "python",
   "nbconvert_exporter": "python",
   "pygments_lexer": "ipython3",
   "version": "3.9.7"
  }
 },
 "nbformat": 4,
 "nbformat_minor": 5
}
