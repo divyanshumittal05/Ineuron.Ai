{
 "cells": [
  {
   "cell_type": "code",
   "execution_count": 2,
   "id": "92e6e631-fc14-4356-8272-3302736cb0dd",
   "metadata": {},
   "outputs": [
    {
     "name": "stdout",
     "output_type": "stream",
     "text": [
      "Enter A Number:\n"
     ]
    },
    {
     "name": "stdin",
     "output_type": "stream",
     "text": [
      " 10\n"
     ]
    },
    {
     "name": "stdout",
     "output_type": "stream",
     "text": [
      "Fibonacci Sequence:\n",
      "0\n",
      "1\n",
      "1\n",
      "2\n",
      "3\n",
      "5\n",
      "8\n",
      "13\n",
      "21\n",
      "34\n"
     ]
    }
   ],
   "source": [
    "## Write a Python Program to Display Fibonacci Sequence Using Recursion?\n",
    "print('Enter A Number:')\n",
    "x = int(input())\n",
    "\n",
    "def rec_fib(num):\n",
    "    if num<=1:\n",
    "        return num\n",
    "    else:\n",
    "        return ((rec_fib(num-1)) + (rec_fib(num-2)))\n",
    "    \n",
    "if x<=0:\n",
    "    print('Enter a positive number')\n",
    "else:\n",
    "    print('Fibonacci Sequence:')\n",
    "    for i in range(x):\n",
    "        print(rec_fib(i))"
   ]
  },
  {
   "cell_type": "code",
   "execution_count": 6,
   "id": "d0fd58d5-6bed-4cb2-acac-6a34fed79161",
   "metadata": {},
   "outputs": [
    {
     "name": "stdout",
     "output_type": "stream",
     "text": [
      "Enter A Number:\n"
     ]
    },
    {
     "name": "stdin",
     "output_type": "stream",
     "text": [
      " 5\n"
     ]
    },
    {
     "name": "stdout",
     "output_type": "stream",
     "text": [
      "Factorial of  5  is 120\n"
     ]
    }
   ],
   "source": [
    "## Write a Python Program to Find Factorial of Number Using Recursion?\n",
    "def fact(x):\n",
    "    if x == 1:\n",
    "        return 1\n",
    "    else:\n",
    "        return x*fact(x-1)\n",
    "\n",
    "print('Enter A Number:')\n",
    "num = int(input())\n",
    "\n",
    "if num<0:\n",
    "    print('Number is Nagetive.')\n",
    "elif num == 0:\n",
    "    print('Factorial of zero is:',0)\n",
    "else:\n",
    "    print('Factorial of ',num,' is',fact(num))"
   ]
  },
  {
   "cell_type": "code",
   "execution_count": 10,
   "id": "a1d1c8eb-d468-4632-b3d7-202ce5b4c8cd",
   "metadata": {},
   "outputs": [
    {
     "name": "stdin",
     "output_type": "stream",
     "text": [
      "Enter the height in cm:  160\n",
      "Enter the weight in kg:  61\n"
     ]
    },
    {
     "name": "stdout",
     "output_type": "stream",
     "text": [
      "Your Body Mass Index is 23.828124999999996\n",
      "Awesome! You are healthy.\n"
     ]
    }
   ],
   "source": [
    "## Write a Python Program to calculate your Body Mass Index?\n",
    "\n",
    "the_height = float(input(\"Enter the height in cm: \"))  \n",
    "the_weight = float(input(\"Enter the weight in kg: \"))  \n",
    "\n",
    "the_BMI = the_weight / (the_height/100)**2  \n",
    "\n",
    "print(\"Your Body Mass Index is\", the_BMI)  \n",
    " \n",
    "if the_BMI <= 18.5:  \n",
    "    print(\"Oops! You are underweight.\")  \n",
    "elif the_BMI <= 24.9:  \n",
    "    print(\"Awesome! You are healthy.\")  \n",
    "elif the_BMI <= 29.9:  \n",
    "    the_print(\"Eee! You are over weight.\")  \n",
    "else:  \n",
    "    print(\"Seesh! You are obese.\")  "
   ]
  },
  {
   "cell_type": "code",
   "execution_count": 11,
   "id": "c2c20272-f13c-482e-bb18-c3756398b7d7",
   "metadata": {},
   "outputs": [
    {
     "name": "stdout",
     "output_type": "stream",
     "text": [
      "Enter a number:\n"
     ]
    },
    {
     "name": "stdin",
     "output_type": "stream",
     "text": [
      " 23\n"
     ]
    },
    {
     "name": "stdout",
     "output_type": "stream",
     "text": [
      "Natural log Value of 23 is: 3.1354942159291497\n"
     ]
    }
   ],
   "source": [
    "## Write a Python Program to calculate the natural logarithm of any number?\n",
    "\n",
    "import math\n",
    "print('Enter a number:')\n",
    "num = eval(input())\n",
    "print('Natural log Value of',num,'is:',math.log(num))"
   ]
  },
  {
   "cell_type": "code",
   "execution_count": 13,
   "id": "2d5aabdf-ab26-4281-956f-8bf55e187ae0",
   "metadata": {},
   "outputs": [
    {
     "name": "stdout",
     "output_type": "stream",
     "text": [
      "Enter a number (to find out cube upto n):\n"
     ]
    },
    {
     "name": "stdin",
     "output_type": "stream",
     "text": [
      " 3\n"
     ]
    },
    {
     "name": "stdout",
     "output_type": "stream",
     "text": [
      "\n",
      "\n",
      "cube sum of first 3 natural numbers is: 36\n"
     ]
    }
   ],
   "source": [
    "## Write a Python Program for cube sum of first n natural numbers?\n",
    "\n",
    "print('Enter a number (to find out cube upto n):')\n",
    "num = eval(input())\n",
    "cube = 0\n",
    "for i in range(0,num+1):\n",
    "    cube = cube + i**3\n",
    "print('\\n')\n",
    "print('cube sum of first',num,'natural numbers is:',cube)"
   ]
  },
  {
   "cell_type": "code",
   "execution_count": null,
   "id": "90f254c6-ed67-4f8c-9504-110f24dfc23c",
   "metadata": {},
   "outputs": [],
   "source": []
  }
 ],
 "metadata": {
  "kernelspec": {
   "display_name": "Python 3 (ipykernel)",
   "language": "python",
   "name": "python3"
  },
  "language_info": {
   "codemirror_mode": {
    "name": "ipython",
    "version": 3
   },
   "file_extension": ".py",
   "mimetype": "text/x-python",
   "name": "python",
   "nbconvert_exporter": "python",
   "pygments_lexer": "ipython3",
   "version": "3.9.7"
  }
 },
 "nbformat": 4,
 "nbformat_minor": 5
}
