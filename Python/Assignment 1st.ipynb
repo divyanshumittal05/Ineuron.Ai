{
 "cells": [
  {
   "cell_type": "code",
   "execution_count": 2,
   "id": "9652a027-c872-4070-a361-83532f39b090",
   "metadata": {},
   "outputs": [
    {
     "name": "stdout",
     "output_type": "stream",
     "text": [
      "Hello Python\n"
     ]
    }
   ],
   "source": [
    "## Write a Python program to print \"Hello Python\"?\n",
    "\n",
    "print('Hello Python')"
   ]
  },
  {
   "cell_type": "code",
   "execution_count": 3,
   "id": "a14223ca-37e5-41c7-91b7-ad2e176dd998",
   "metadata": {},
   "outputs": [
    {
     "name": "stdin",
     "output_type": "stream",
     "text": [
      "Enter A Number: 23\n",
      "Enter A Number: 12\n"
     ]
    },
    {
     "name": "stdout",
     "output_type": "stream",
     "text": [
      "Sum of Two Number is: 35\n",
      "Division of Two Number is: 1.9166666666666667\n"
     ]
    }
   ],
   "source": [
    "##Write a Python program to do arithmetical operations addition and division.?\n",
    "\n",
    "num1 = eval(input(\"Enter A Number:\"))\n",
    "num2 = eval(input(\"Enter A Number:\"))\n",
    "\n",
    "## Arithmetic Operation\n",
    "print('Sum of Two Number is:',num1+num2)\n",
    "print('Division of Two Number is:',num1/num2)"
   ]
  },
  {
   "cell_type": "code",
   "execution_count": 5,
   "id": "083001b9-bcbd-4fa3-9d56-1dd56b4df86a",
   "metadata": {},
   "outputs": [
    {
     "name": "stdin",
     "output_type": "stream",
     "text": [
      "Enter The Base Value: 12\n",
      "Enter The Height of Triangle: 8\n"
     ]
    },
    {
     "name": "stdout",
     "output_type": "stream",
     "text": [
      "48.0\n"
     ]
    }
   ],
   "source": [
    "## Write a Python program to find the area of a triangle?\n",
    "\n",
    "Base = eval(input('Enter The Base Value:'))\n",
    "Height = eval(input('Enter The Height of Triangle:'))\n",
    "Area = 1/2*Base*Height\n",
    "print(Area)"
   ]
  },
  {
   "cell_type": "code",
   "execution_count": 6,
   "id": "a07a8811-ba4d-4f5a-bbcb-de8a3e8c80f5",
   "metadata": {},
   "outputs": [
    {
     "name": "stdin",
     "output_type": "stream",
     "text": [
      "Enter A Number: 3\n",
      "Enter A Number: 5\n"
     ]
    },
    {
     "name": "stdout",
     "output_type": "stream",
     "text": [
      "Before The Swapping: 3 5\n",
      "After The Swapping: 5 3\n"
     ]
    }
   ],
   "source": [
    "## Write a Python program to swap two variables?\n",
    "\n",
    "num1 = eval(input(\"Enter A Number:\"))\n",
    "num2 = eval(input(\"Enter A Number:\"))\n",
    "\n",
    "print('Before The Swapping:', num1, num2)\n",
    "\n",
    "temp = num1\n",
    "num1 = num2\n",
    "num2 = temp\n",
    "\n",
    "print('After The Swapping:', num1, num2)"
   ]
  },
  {
   "cell_type": "code",
   "execution_count": 10,
   "id": "c952a333-4a16-4ee7-9753-e7849a1169a7",
   "metadata": {},
   "outputs": [
    {
     "name": "stdout",
     "output_type": "stream",
     "text": [
      "Number is: 5\n"
     ]
    }
   ],
   "source": [
    "## Write a Python program to generate a random number?\n",
    "\n",
    "import random\n",
    "## Random Number Are Generate B/W The 0-9\n",
    "\n",
    "Number = random.randint(1,10)\n",
    "print('Number is:',Number)"
   ]
  },
  {
   "cell_type": "code",
   "execution_count": null,
   "id": "865d7277-9bd0-45ea-a95a-1cd7ccca8794",
   "metadata": {},
   "outputs": [],
   "source": []
  }
 ],
 "metadata": {
  "kernelspec": {
   "display_name": "Python 3 (ipykernel)",
   "language": "python",
   "name": "python3"
  },
  "language_info": {
   "codemirror_mode": {
    "name": "ipython",
    "version": 3
   },
   "file_extension": ".py",
   "mimetype": "text/x-python",
   "name": "python",
   "nbconvert_exporter": "python",
   "pygments_lexer": "ipython3",
   "version": "3.9.7"
  }
 },
 "nbformat": 4,
 "nbformat_minor": 5
}
